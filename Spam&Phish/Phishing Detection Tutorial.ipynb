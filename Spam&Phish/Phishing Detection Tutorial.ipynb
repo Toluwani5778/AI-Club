{
 "cells": [
  {
   "cell_type": "markdown",
   "id": "de07c677",
   "metadata": {},
   "source": [
    "### Import Libraries"
   ]
  },
  {
   "cell_type": "markdown",
   "id": "a571d83a",
   "metadata": {},
   "source": [
    "https://www.kaggle.com/datasets/naserabdullahalam/phishing-email-dataset?select=phishing_email.csv\n",
    "\n",
    "https://www.kaggle.com/datasets/subhajournal/phishingemails"
   ]
  },
  {
   "cell_type": "code",
   "execution_count": 1,
   "id": "d9be78d4",
   "metadata": {},
   "outputs": [],
   "source": [
    "#Import the necessary libraries\n",
    "import numpy as np\n",
    "import re\n",
    "import pandas as pd\n",
    "from sklearn.model_selection import train_test_split\n",
    "from sklearn.preprocessing import StandardScaler\n",
    "from sklearn.metrics import accuracy_score"
   ]
  },
  {
   "cell_type": "markdown",
   "id": "acbce18b",
   "metadata": {},
   "source": [
    "### Load in your dataset\n",
    "Make sure the dataset is in the same folder as your notebook"
   ]
  },
  {
   "cell_type": "code",
   "execution_count": 2,
   "id": "37d68089",
   "metadata": {},
   "outputs": [
    {
     "data": {
      "text/html": [
       "<div>\n",
       "<style scoped>\n",
       "    .dataframe tbody tr th:only-of-type {\n",
       "        vertical-align: middle;\n",
       "    }\n",
       "\n",
       "    .dataframe tbody tr th {\n",
       "        vertical-align: top;\n",
       "    }\n",
       "\n",
       "    .dataframe thead th {\n",
       "        text-align: right;\n",
       "    }\n",
       "</style>\n",
       "<table border=\"1\" class=\"dataframe\">\n",
       "  <thead>\n",
       "    <tr style=\"text-align: right;\">\n",
       "      <th></th>\n",
       "      <th>Unnamed: 0</th>\n",
       "      <th>Email Text</th>\n",
       "      <th>Email Type</th>\n",
       "    </tr>\n",
       "  </thead>\n",
       "  <tbody>\n",
       "    <tr>\n",
       "      <th>0</th>\n",
       "      <td>0</td>\n",
       "      <td>re : 6 . 1100 , disc : uniformitarianism , re ...</td>\n",
       "      <td>Safe Email</td>\n",
       "    </tr>\n",
       "    <tr>\n",
       "      <th>1</th>\n",
       "      <td>1</td>\n",
       "      <td>the other side of * galicismos * * galicismo *...</td>\n",
       "      <td>Safe Email</td>\n",
       "    </tr>\n",
       "    <tr>\n",
       "      <th>2</th>\n",
       "      <td>2</td>\n",
       "      <td>re : equistar deal tickets are you still avail...</td>\n",
       "      <td>Safe Email</td>\n",
       "    </tr>\n",
       "    <tr>\n",
       "      <th>3</th>\n",
       "      <td>3</td>\n",
       "      <td>\\nHello I am your hot lil horny toy.\\n    I am...</td>\n",
       "      <td>Phishing Email</td>\n",
       "    </tr>\n",
       "    <tr>\n",
       "      <th>4</th>\n",
       "      <td>4</td>\n",
       "      <td>software at incredibly low prices ( 86 % lower...</td>\n",
       "      <td>Phishing Email</td>\n",
       "    </tr>\n",
       "    <tr>\n",
       "      <th>...</th>\n",
       "      <td>...</td>\n",
       "      <td>...</td>\n",
       "      <td>...</td>\n",
       "    </tr>\n",
       "    <tr>\n",
       "      <th>18645</th>\n",
       "      <td>18646</td>\n",
       "      <td>date a lonely housewife always wanted to date ...</td>\n",
       "      <td>Phishing Email</td>\n",
       "    </tr>\n",
       "    <tr>\n",
       "      <th>18646</th>\n",
       "      <td>18647</td>\n",
       "      <td>request submitted : access request for anita ....</td>\n",
       "      <td>Safe Email</td>\n",
       "    </tr>\n",
       "    <tr>\n",
       "      <th>18647</th>\n",
       "      <td>18648</td>\n",
       "      <td>re : important - prc mtg hi dorn &amp; john , as y...</td>\n",
       "      <td>Safe Email</td>\n",
       "    </tr>\n",
       "    <tr>\n",
       "      <th>18648</th>\n",
       "      <td>18649</td>\n",
       "      <td>press clippings - letter on californian utilit...</td>\n",
       "      <td>Safe Email</td>\n",
       "    </tr>\n",
       "    <tr>\n",
       "      <th>18649</th>\n",
       "      <td>18650</td>\n",
       "      <td>empty</td>\n",
       "      <td>Phishing Email</td>\n",
       "    </tr>\n",
       "  </tbody>\n",
       "</table>\n",
       "<p>18650 rows × 3 columns</p>\n",
       "</div>"
      ],
      "text/plain": [
       "       Unnamed: 0                                         Email Text  \\\n",
       "0               0  re : 6 . 1100 , disc : uniformitarianism , re ...   \n",
       "1               1  the other side of * galicismos * * galicismo *...   \n",
       "2               2  re : equistar deal tickets are you still avail...   \n",
       "3               3  \\nHello I am your hot lil horny toy.\\n    I am...   \n",
       "4               4  software at incredibly low prices ( 86 % lower...   \n",
       "...           ...                                                ...   \n",
       "18645       18646  date a lonely housewife always wanted to date ...   \n",
       "18646       18647  request submitted : access request for anita ....   \n",
       "18647       18648  re : important - prc mtg hi dorn & john , as y...   \n",
       "18648       18649  press clippings - letter on californian utilit...   \n",
       "18649       18650                                              empty   \n",
       "\n",
       "           Email Type  \n",
       "0          Safe Email  \n",
       "1          Safe Email  \n",
       "2          Safe Email  \n",
       "3      Phishing Email  \n",
       "4      Phishing Email  \n",
       "...               ...  \n",
       "18645  Phishing Email  \n",
       "18646      Safe Email  \n",
       "18647      Safe Email  \n",
       "18648      Safe Email  \n",
       "18649  Phishing Email  \n",
       "\n",
       "[18650 rows x 3 columns]"
      ]
     },
     "execution_count": 2,
     "metadata": {},
     "output_type": "execute_result"
    }
   ],
   "source": [
    "#Finally, use the pandas read_csv function to load the extracted file into a pandas dataframe\n",
    "df = pd.read_csv(\"Phishing_Email.csv\")\n",
    "df"
   ]
  },
  {
   "cell_type": "code",
   "execution_count": 3,
   "id": "aa7f61a5",
   "metadata": {},
   "outputs": [],
   "source": [
    "df = df.iloc[:, 1:] #drop the first column"
   ]
  },
  {
   "cell_type": "markdown",
   "id": "fbd43b7c",
   "metadata": {},
   "source": [
    "unique means values that are distinct from others. In this case unique means text that is not duplicate of another and is not null"
   ]
  },
  {
   "cell_type": "code",
   "execution_count": 4,
   "id": "ff24f8d6",
   "metadata": {},
   "outputs": [
    {
     "data": {
      "text/html": [
       "<div>\n",
       "<style scoped>\n",
       "    .dataframe tbody tr th:only-of-type {\n",
       "        vertical-align: middle;\n",
       "    }\n",
       "\n",
       "    .dataframe tbody tr th {\n",
       "        vertical-align: top;\n",
       "    }\n",
       "\n",
       "    .dataframe thead th {\n",
       "        text-align: right;\n",
       "    }\n",
       "</style>\n",
       "<table border=\"1\" class=\"dataframe\">\n",
       "  <thead>\n",
       "    <tr style=\"text-align: right;\">\n",
       "      <th></th>\n",
       "      <th>Email Text</th>\n",
       "      <th>Email Type</th>\n",
       "    </tr>\n",
       "  </thead>\n",
       "  <tbody>\n",
       "    <tr>\n",
       "      <th>count</th>\n",
       "      <td>18634</td>\n",
       "      <td>18650</td>\n",
       "    </tr>\n",
       "    <tr>\n",
       "      <th>unique</th>\n",
       "      <td>17537</td>\n",
       "      <td>2</td>\n",
       "    </tr>\n",
       "    <tr>\n",
       "      <th>top</th>\n",
       "      <td>empty</td>\n",
       "      <td>Safe Email</td>\n",
       "    </tr>\n",
       "    <tr>\n",
       "      <th>freq</th>\n",
       "      <td>533</td>\n",
       "      <td>11322</td>\n",
       "    </tr>\n",
       "  </tbody>\n",
       "</table>\n",
       "</div>"
      ],
      "text/plain": [
       "       Email Text  Email Type\n",
       "count       18634       18650\n",
       "unique      17537           2\n",
       "top         empty  Safe Email\n",
       "freq          533       11322"
      ]
     },
     "execution_count": 4,
     "metadata": {},
     "output_type": "execute_result"
    }
   ],
   "source": [
    "df.describe()"
   ]
  },
  {
   "cell_type": "code",
   "execution_count": 5,
   "id": "7b00e6b0",
   "metadata": {},
   "outputs": [
    {
     "data": {
      "text/html": [
       "<div>\n",
       "<style scoped>\n",
       "    .dataframe tbody tr th:only-of-type {\n",
       "        vertical-align: middle;\n",
       "    }\n",
       "\n",
       "    .dataframe tbody tr th {\n",
       "        vertical-align: top;\n",
       "    }\n",
       "\n",
       "    .dataframe thead th {\n",
       "        text-align: right;\n",
       "    }\n",
       "</style>\n",
       "<table border=\"1\" class=\"dataframe\">\n",
       "  <thead>\n",
       "    <tr style=\"text-align: right;\">\n",
       "      <th></th>\n",
       "      <th>Email Text</th>\n",
       "      <th>Email Type</th>\n",
       "    </tr>\n",
       "  </thead>\n",
       "  <tbody>\n",
       "    <tr>\n",
       "      <th>0</th>\n",
       "      <td>re : 6 . 1100 , disc : uniformitarianism , re ...</td>\n",
       "      <td>Safe Email</td>\n",
       "    </tr>\n",
       "    <tr>\n",
       "      <th>1</th>\n",
       "      <td>the other side of * galicismos * * galicismo *...</td>\n",
       "      <td>Safe Email</td>\n",
       "    </tr>\n",
       "    <tr>\n",
       "      <th>2</th>\n",
       "      <td>re : equistar deal tickets are you still avail...</td>\n",
       "      <td>Safe Email</td>\n",
       "    </tr>\n",
       "    <tr>\n",
       "      <th>3</th>\n",
       "      <td>\\nHello I am your hot lil horny toy.\\n    I am...</td>\n",
       "      <td>Phishing Email</td>\n",
       "    </tr>\n",
       "    <tr>\n",
       "      <th>4</th>\n",
       "      <td>software at incredibly low prices ( 86 % lower...</td>\n",
       "      <td>Phishing Email</td>\n",
       "    </tr>\n",
       "    <tr>\n",
       "      <th>...</th>\n",
       "      <td>...</td>\n",
       "      <td>...</td>\n",
       "    </tr>\n",
       "    <tr>\n",
       "      <th>18645</th>\n",
       "      <td>date a lonely housewife always wanted to date ...</td>\n",
       "      <td>Phishing Email</td>\n",
       "    </tr>\n",
       "    <tr>\n",
       "      <th>18646</th>\n",
       "      <td>request submitted : access request for anita ....</td>\n",
       "      <td>Safe Email</td>\n",
       "    </tr>\n",
       "    <tr>\n",
       "      <th>18647</th>\n",
       "      <td>re : important - prc mtg hi dorn &amp; john , as y...</td>\n",
       "      <td>Safe Email</td>\n",
       "    </tr>\n",
       "    <tr>\n",
       "      <th>18648</th>\n",
       "      <td>press clippings - letter on californian utilit...</td>\n",
       "      <td>Safe Email</td>\n",
       "    </tr>\n",
       "    <tr>\n",
       "      <th>18649</th>\n",
       "      <td>empty</td>\n",
       "      <td>Phishing Email</td>\n",
       "    </tr>\n",
       "  </tbody>\n",
       "</table>\n",
       "<p>18650 rows × 2 columns</p>\n",
       "</div>"
      ],
      "text/plain": [
       "                                              Email Text      Email Type\n",
       "0      re : 6 . 1100 , disc : uniformitarianism , re ...      Safe Email\n",
       "1      the other side of * galicismos * * galicismo *...      Safe Email\n",
       "2      re : equistar deal tickets are you still avail...      Safe Email\n",
       "3      \\nHello I am your hot lil horny toy.\\n    I am...  Phishing Email\n",
       "4      software at incredibly low prices ( 86 % lower...  Phishing Email\n",
       "...                                                  ...             ...\n",
       "18645  date a lonely housewife always wanted to date ...  Phishing Email\n",
       "18646  request submitted : access request for anita ....      Safe Email\n",
       "18647  re : important - prc mtg hi dorn & john , as y...      Safe Email\n",
       "18648  press clippings - letter on californian utilit...      Safe Email\n",
       "18649                                              empty  Phishing Email\n",
       "\n",
       "[18650 rows x 2 columns]"
      ]
     },
     "execution_count": 5,
     "metadata": {},
     "output_type": "execute_result"
    }
   ],
   "source": [
    "df"
   ]
  },
  {
   "cell_type": "code",
   "execution_count": 6,
   "id": "6c62a212",
   "metadata": {},
   "outputs": [
    {
     "data": {
      "text/html": [
       "<div>\n",
       "<style scoped>\n",
       "    .dataframe tbody tr th:only-of-type {\n",
       "        vertical-align: middle;\n",
       "    }\n",
       "\n",
       "    .dataframe tbody tr th {\n",
       "        vertical-align: top;\n",
       "    }\n",
       "\n",
       "    .dataframe thead th {\n",
       "        text-align: right;\n",
       "    }\n",
       "</style>\n",
       "<table border=\"1\" class=\"dataframe\">\n",
       "  <thead>\n",
       "    <tr style=\"text-align: right;\">\n",
       "      <th></th>\n",
       "      <th>Email Text</th>\n",
       "      <th>Email Type</th>\n",
       "    </tr>\n",
       "  </thead>\n",
       "  <tbody>\n",
       "    <tr>\n",
       "      <th>0</th>\n",
       "      <td>re : 6 . 1100 , disc : uniformitarianism , re : 1086 ; sex / lang dick hudson 's observations on us use of 's on ' but not 'd aughter ' as a vocative are very thought-provoking , but i am not sure that it is fair to attribute this to \" sons \" being \" treated like senior relatives \" . for one thing , we do n't normally use ' brother ' in this way any more than we do 'd aughter ' , and it is hard to imagine a natural class comprising senior relatives and 's on ' but excluding ' brother ' . for another , there seem to me to be differences here . if i am not imagining a distinction that is not there , it seems to me that the senior relative terms are used in a wider variety of contexts , e . g . , calling out from a distance to get someone 's attention , and hence at the beginning of an utterance , whereas 's on ' seems more natural in utterances like ' yes , son ' , ' hand me that , son ' than in ones like ' son ! ' or ' son , help me ! ' ( although perhaps these latter ones are not c...</td>\n",
       "      <td>Safe Email</td>\n",
       "    </tr>\n",
       "    <tr>\n",
       "      <th>1</th>\n",
       "      <td>the other side of * galicismos * * galicismo * is a spanish term which names the improper introduction of french words which are spanish sounding and thus very deceptive to the ear . * galicismo * is often considered to be a * barbarismo * . what would be the term which designates the opposite phenomenon , that is unlawful words of spanish origin which may have crept into french ? can someone provide examples ? thank you joseph m kozono &lt; kozonoj @ gunet . georgetown . edu &gt;</td>\n",
       "      <td>Safe Email</td>\n",
       "    </tr>\n",
       "    <tr>\n",
       "      <th>2</th>\n",
       "      <td>re : equistar deal tickets are you still available to assist robert with entering the new deal tickets for equistar ? after talking with bryan hull and anita luong , kyle and i decided we only need 1 additional sale ticket and 1 additional buyback ticket set up . - - - - - - - - - - - - - - - - - - - - - - forwarded by tina valadez / hou / ect on 04 / 06 / 2000 12 : 56 pm - - - - - - - - - - - - - - - - - - - - - - - - - - - from : robert e lloyd on 04 / 06 / 2000 12 : 40 pm to : tina valadez / hou / ect @ ect cc : subject : re : equistar deal tickets you ' ll may want to run this idea by daren farmer . i don ' t normally add tickets into sitara . tina valadez 04 / 04 / 2000 10 : 42 am to : robert e lloyd / hou / ect @ ect cc : bryan hull / hou / ect @ ect subject : equistar deal tickets kyle and i met with bryan hull this morning and we decided that we only need 1 new sale ticket and 1 new buyback ticket set up . the time period for both tickets should be july 1999 - forward . the...</td>\n",
       "      <td>Safe Email</td>\n",
       "    </tr>\n",
       "    <tr>\n",
       "      <th>3</th>\n",
       "      <td>\\nHello I am your hot lil horny toy.\\n    I am the one you dream About,\\n    I am a very open minded person,\\n    Love to talk about and any subject.\\n    Fantasy is my way of life, \\n    Ultimate in sex play.     Ummmmmmmmmmmmmm\\n     I am Wet and ready for you.     It is not your looks but your imagination that matters most,\\n     With My sexy voice I can make your dream come true...\\n  \\n     Hurry Up! call me let me Cummmmm for you..........................\\nTOLL-FREE:             1-877-451-TEEN (1-877-451-8336)For phone billing:     1-900-993-2582\\n-- \\n_______________________________________________\\nSign-up for your own FREE Personalized E-mail at Mail.com\\nhttp://www.mail.com/?sr=signup</td>\n",
       "      <td>Phishing Email</td>\n",
       "    </tr>\n",
       "    <tr>\n",
       "      <th>4</th>\n",
       "      <td>software at incredibly low prices ( 86 % lower ) . drapery seventeen term represent any sing . feet wild break able build . tail , send subtract represent . job cow student inch gave . let still warm , family draw , land book . glass plan include . sentence is , hat silent nothing . order , wild famous long their . inch such , saw , person , save . face , especially sentence science . certain , cry does . two depend yes , written carry .</td>\n",
       "      <td>Phishing Email</td>\n",
       "    </tr>\n",
       "  </tbody>\n",
       "</table>\n",
       "</div>"
      ],
      "text/plain": [
       "                                                                                                                                                                                                                                                                                                                                                                                                                                                                                                                                                                                                                                                                                                                                                                                                                                                                                                                                                                                                                                Email Text  \\\n",
       "0  re : 6 . 1100 , disc : uniformitarianism , re : 1086 ; sex / lang dick hudson 's observations on us use of 's on ' but not 'd aughter ' as a vocative are very thought-provoking , but i am not sure that it is fair to attribute this to \" sons \" being \" treated like senior relatives \" . for one thing , we do n't normally use ' brother ' in this way any more than we do 'd aughter ' , and it is hard to imagine a natural class comprising senior relatives and 's on ' but excluding ' brother ' . for another , there seem to me to be differences here . if i am not imagining a distinction that is not there , it seems to me that the senior relative terms are used in a wider variety of contexts , e . g . , calling out from a distance to get someone 's attention , and hence at the beginning of an utterance , whereas 's on ' seems more natural in utterances like ' yes , son ' , ' hand me that , son ' than in ones like ' son ! ' or ' son , help me ! ' ( although perhaps these latter ones are not c...   \n",
       "1                                                                                                                                                                                                                                                                                                                                                                                                                                                                                                                                          the other side of * galicismos * * galicismo * is a spanish term which names the improper introduction of french words which are spanish sounding and thus very deceptive to the ear . * galicismo * is often considered to be a * barbarismo * . what would be the term which designates the opposite phenomenon , that is unlawful words of spanish origin which may have crept into french ? can someone provide examples ? thank you joseph m kozono < kozonoj @ gunet . georgetown . edu >   \n",
       "2  re : equistar deal tickets are you still available to assist robert with entering the new deal tickets for equistar ? after talking with bryan hull and anita luong , kyle and i decided we only need 1 additional sale ticket and 1 additional buyback ticket set up . - - - - - - - - - - - - - - - - - - - - - - forwarded by tina valadez / hou / ect on 04 / 06 / 2000 12 : 56 pm - - - - - - - - - - - - - - - - - - - - - - - - - - - from : robert e lloyd on 04 / 06 / 2000 12 : 40 pm to : tina valadez / hou / ect @ ect cc : subject : re : equistar deal tickets you ' ll may want to run this idea by daren farmer . i don ' t normally add tickets into sitara . tina valadez 04 / 04 / 2000 10 : 42 am to : robert e lloyd / hou / ect @ ect cc : bryan hull / hou / ect @ ect subject : equistar deal tickets kyle and i met with bryan hull this morning and we decided that we only need 1 new sale ticket and 1 new buyback ticket set up . the time period for both tickets should be july 1999 - forward . the...   \n",
       "3                                                                                                                                                                                                                                                                                                          \\nHello I am your hot lil horny toy.\\n    I am the one you dream About,\\n    I am a very open minded person,\\n    Love to talk about and any subject.\\n    Fantasy is my way of life, \\n    Ultimate in sex play.     Ummmmmmmmmmmmmm\\n     I am Wet and ready for you.     It is not your looks but your imagination that matters most,\\n     With My sexy voice I can make your dream come true...\\n  \\n     Hurry Up! call me let me Cummmmm for you..........................\\nTOLL-FREE:             1-877-451-TEEN (1-877-451-8336)For phone billing:     1-900-993-2582\\n-- \\n_______________________________________________\\nSign-up for your own FREE Personalized E-mail at Mail.com\\nhttp://www.mail.com/?sr=signup   \n",
       "4                                                                                                                                                                                                                                                                                                                                                                                                                                                                                                                                                                                software at incredibly low prices ( 86 % lower ) . drapery seventeen term represent any sing . feet wild break able build . tail , send subtract represent . job cow student inch gave . let still warm , family draw , land book . glass plan include . sentence is , hat silent nothing . order , wild famous long their . inch such , saw , person , save . face , especially sentence science . certain , cry does . two depend yes , written carry .   \n",
       "\n",
       "       Email Type  \n",
       "0      Safe Email  \n",
       "1      Safe Email  \n",
       "2      Safe Email  \n",
       "3  Phishing Email  \n",
       "4  Phishing Email  "
      ]
     },
     "execution_count": 6,
     "metadata": {},
     "output_type": "execute_result"
    }
   ],
   "source": [
    "pd.options.display.max_colwidth = 1000 # Expand the columns width so that you can see the text\n",
    "df.head()"
   ]
  },
  {
   "cell_type": "code",
   "execution_count": 7,
   "id": "8424bbcb",
   "metadata": {},
   "outputs": [
    {
     "data": {
      "text/plain": [
       "Safe Email        11322\n",
       "Phishing Email     7328\n",
       "Name: Email Type, dtype: int64"
      ]
     },
     "execution_count": 7,
     "metadata": {},
     "output_type": "execute_result"
    }
   ],
   "source": [
    "df[\"Email Type\"].value_counts()"
   ]
  },
  {
   "cell_type": "code",
   "execution_count": 8,
   "id": "6bf8a417",
   "metadata": {},
   "outputs": [
    {
     "data": {
      "image/png": "[encoded data removed]",
      "text/plain": [
       "<Figure size 640x480 with 1 Axes>"
      ]
     },
     "metadata": {},
     "output_type": "display_data"
    }
   ],
   "source": [
    "import seaborn as sns\n",
    "import matplotlib.pyplot as plt\n",
    "\n",
    "# Set the color palette for the plot\n",
    "palette = sns.color_palette([\"#1f77b4\", \"#2ca02c\"])\n",
    "# Plot the class distribution using seaborn's countplot function\n",
    "sns.countplot(x=\"Email Type\", data=df, palette=palette)\n",
    "\n",
    "# Add title and labels to the plot\n",
    "plt.title(\"Class Distribution of Phish Dataset\")\n",
    "plt.xlabel(\"Label\")\n",
    "plt.ylabel(\"Count\")\n",
    "\n",
    "# Display the plot\n",
    "plt.show()"
   ]
  },
  {
   "cell_type": "code",
   "execution_count": 9,
   "id": "b664b192",
   "metadata": {},
   "outputs": [
    {
     "name": "stdout",
     "output_type": "stream",
     "text": [
      "Email Text    16\n",
      "Email Type     0\n",
      "dtype: int64\n"
     ]
    }
   ],
   "source": [
    "# Count the number of null values in all columns\n",
    "print(df.isnull().sum())\n"
   ]
  },
  {
   "cell_type": "markdown",
   "id": "ef863773",
   "metadata": {},
   "source": [
    "### Preprocessing"
   ]
  },
  {
   "cell_type": "code",
   "execution_count": 10,
   "id": "69bc99a8",
   "metadata": {},
   "outputs": [],
   "source": [
    "# Replace null values with a placeholder string (e.g., 'N/A')\n",
    "df['Email Text'].fillna('N/A', inplace=True)"
   ]
  },
  {
   "cell_type": "code",
   "execution_count": 11,
   "id": "799c3fe3",
   "metadata": {},
   "outputs": [
    {
     "name": "stdout",
     "output_type": "stream",
     "text": [
      "True\n"
     ]
    }
   ],
   "source": [
    "# Check for duplicates\n",
    "print(df.duplicated().any())"
   ]
  },
  {
   "cell_type": "code",
   "execution_count": 12,
   "id": "5fb646dc",
   "metadata": {},
   "outputs": [],
   "source": [
    "# Remove duplicates\n",
    "df = df.drop_duplicates()"
   ]
  },
  {
   "cell_type": "markdown",
   "id": "56f63196",
   "metadata": {},
   "source": [
    "By default, drop_duplicates() will keep the first occurrence of a duplicate row and remove all subsequent occurrences. You can specify the keep parameter to specify which occurrences of duplicates to keep. For example, keep='first' will keep the first occurrence and remove all others (the default behavior), while keep='last' will keep the last occurrence and remove all others.\n",
    "\n",
    "You can also specify the subset parameter to only consider a subset of columns when checking for duplicates. For example, df.drop_duplicates(subset=['col1', 'col2']) will only consider the col1 and col2 columns when checking for duplicates."
   ]
  },
  {
   "cell_type": "code",
   "execution_count": 13,
   "id": "572e9a60",
   "metadata": {},
   "outputs": [
    {
     "data": {
      "text/plain": [
       "Safe Email        0.626033\n",
       "Phishing Email    0.373967\n",
       "Name: Email Type, dtype: float64"
      ]
     },
     "execution_count": 13,
     "metadata": {},
     "output_type": "execute_result"
    }
   ],
   "source": [
    "#use the normalize parameter to get the relative frequencies of each class, rather than the counts\n",
    "df[\"Email Type\"].value_counts(normalize=True)"
   ]
  },
  {
   "cell_type": "code",
   "execution_count": 14,
   "id": "656e7d27",
   "metadata": {},
   "outputs": [
    {
     "name": "stderr",
     "output_type": "stream",
     "text": [
      "C:\\Users\\hotpr\\anaconda3\\lib\\site-packages\\pandas\\core\\indexing.py:1951: SettingWithCopyWarning: \n",
      "A value is trying to be set on a copy of a slice from a DataFrame.\n",
      "Try using .loc[row_indexer,col_indexer] = value instead\n",
      "\n",
      "See the caveats in the documentation: https://pandas.pydata.org/pandas-docs/stable/user_guide/indexing.html#returning-a-view-versus-a-copy\n",
      "  self.obj[selected_item_labels] = value\n"
     ]
    }
   ],
   "source": [
    "from sklearn.preprocessing import LabelEncoder\n",
    "le = LabelEncoder()\n",
    "df.loc[:, \"Email Type\"] = le.fit_transform(df[\"Email Type\"])"
   ]
  },
  {
   "cell_type": "code",
   "execution_count": 15,
   "id": "d7685108",
   "metadata": {},
   "outputs": [
    {
     "data": {
      "text/plain": [
       "1    10980\n",
       "0     6559\n",
       "Name: Email Type, dtype: int64"
      ]
     },
     "execution_count": 15,
     "metadata": {},
     "output_type": "execute_result"
    }
   ],
   "source": [
    "df[\"Email Type\"].value_counts()"
   ]
  },
  {
   "cell_type": "code",
   "execution_count": 16,
   "id": "f563ee06",
   "metadata": {},
   "outputs": [],
   "source": [
    "X = df[\"Email Text\"]\n",
    "y = df[\"Email Type\"]"
   ]
  },
  {
   "cell_type": "code",
   "execution_count": 17,
   "id": "6b20457f",
   "metadata": {},
   "outputs": [],
   "source": [
    "from sklearn.feature_extraction.text import TfidfVectorizer\n",
    "\n",
    "vectorizer = TfidfVectorizer()\n",
    "X = vectorizer.fit_transform(X)"
   ]
  },
  {
   "cell_type": "code",
   "execution_count": 18,
   "id": "37097346",
   "metadata": {},
   "outputs": [
    {
     "data": {
      "text/plain": [
       "1    10980\n",
       "0    10980\n",
       "Name: Email Type, dtype: int64"
      ]
     },
     "execution_count": 18,
     "metadata": {},
     "output_type": "execute_result"
    }
   ],
   "source": [
    "import numpy as np\n",
    "from imblearn.over_sampling import RandomOverSampler\n",
    "\n",
    "oversample = RandomOverSampler(sampling_strategy='minority')\n",
    "X, y = oversample.fit_resample(X, y)\n",
    "\n",
    "# Count the number of samples for each class after oversampling\n",
    "y.value_counts()"
   ]
  },
  {
   "cell_type": "code",
   "execution_count": 19,
   "id": "714fe452",
   "metadata": {},
   "outputs": [],
   "source": [
    "#80% of data were used for training and 20% for testing purposes\n",
    "X_train, X_test, y_train, y_test = train_test_split(X, y, test_size=0.2, random_state=42)"
   ]
  },
  {
   "cell_type": "markdown",
   "id": "43a034fc",
   "metadata": {},
   "source": [
    "we can convert words to vectors using either Count Vectorizer or by using TF-IDF Vectorizer.\n",
    "\n",
    "TF-IDF is better than Count Vectorizers because it not only focuses on the frequency of words present in the corpus but also provides the importance of the words. We can then remove the words that are less important for analysis, hence making the model building less complex by reducing the input dimensions."
   ]
  },
  {
   "cell_type": "markdown",
   "id": "b9698bc1",
   "metadata": {},
   "source": [
    "## Classifier used: \n",
    "Phishing classifier using naive bayes (Multinomial Naive Bayes)  \n",
    "We will make use of sklearn library. This amazing library has all of the above algorithms we just have to import them and it is as easy as that. No need to worry about all the maths and statistics behind it."
   ]
  },
  {
   "cell_type": "code",
   "execution_count": 20,
   "id": "ead80492",
   "metadata": {},
   "outputs": [
    {
     "name": "stdout",
     "output_type": "stream",
     "text": [
      "[0 0 0 ... 1 0 0]\n"
     ]
    }
   ],
   "source": [
    "# create and train the Best Classifier from the one above\n",
    "from sklearn.naive_bayes import MultinomialNB\n",
    "\n",
    "classifier = MultinomialNB()\n",
    "classifier.fit(X_train, y_train)\n",
    "y_pred=classifier.predict(X_test)\n",
    "print(y_pred)"
   ]
  },
  {
   "cell_type": "code",
   "execution_count": 21,
   "id": "c7c6f609",
   "metadata": {},
   "outputs": [
    {
     "name": "stdout",
     "output_type": "stream",
     "text": [
      "              precision    recall  f1-score   support\n",
      "\n",
      "           0       0.99      0.98      0.99      2165\n",
      "           1       0.99      0.99      0.99      2227\n",
      "\n",
      "    accuracy                           0.99      4392\n",
      "   macro avg       0.99      0.99      0.99      4392\n",
      "weighted avg       0.99      0.99      0.99      4392\n",
      "\n",
      "\n",
      "Confusion Matrix: \n",
      " [[2132   33]\n",
      " [  26 2201]]\n",
      "Accuracy: \n",
      " 0.9865664845173042\n"
     ]
    }
   ],
   "source": [
    "# Evaluating the model on the training data set\n",
    "from sklearn.metrics import classification_report, confusion_matrix, accuracy_score\n",
    "pred = classifier.predict(X_test)\n",
    "print(classification_report(y_test, pred))\n",
    "print()\n",
    "print(\"Confusion Matrix: \\n\", confusion_matrix(y_test, pred))\n",
    "print(\"Accuracy: \\n\", accuracy_score(y_test, pred))"
   ]
  },
  {
   "cell_type": "code",
   "execution_count": 22,
   "id": "1739097b",
   "metadata": {},
   "outputs": [],
   "source": [
    "# make predictions on the test set\n",
    "predictions = classifier.predict(X_test)\n",
    "\n",
    "# create a data frame with the true labels and predictions\n",
    "results = pd.DataFrame({\n",
    "    \"True Label\": y_test,\n",
    "    \"Prediction\": predictions\n",
    "})"
   ]
  },
  {
   "cell_type": "code",
   "execution_count": 23,
   "id": "d8cf1cbf",
   "metadata": {},
   "outputs": [
    {
     "data": {
      "text/html": [
       "<div>\n",
       "<style scoped>\n",
       "    .dataframe tbody tr th:only-of-type {\n",
       "        vertical-align: middle;\n",
       "    }\n",
       "\n",
       "    .dataframe tbody tr th {\n",
       "        vertical-align: top;\n",
       "    }\n",
       "\n",
       "    .dataframe thead th {\n",
       "        text-align: right;\n",
       "    }\n",
       "</style>\n",
       "<table border=\"1\" class=\"dataframe\">\n",
       "  <thead>\n",
       "    <tr style=\"text-align: right;\">\n",
       "      <th></th>\n",
       "      <th>True Label</th>\n",
       "      <th>Prediction</th>\n",
       "    </tr>\n",
       "  </thead>\n",
       "  <tbody>\n",
       "    <tr>\n",
       "      <th>20060</th>\n",
       "      <td>0</td>\n",
       "      <td>0</td>\n",
       "    </tr>\n",
       "    <tr>\n",
       "      <th>8589</th>\n",
       "      <td>0</td>\n",
       "      <td>0</td>\n",
       "    </tr>\n",
       "    <tr>\n",
       "      <th>17105</th>\n",
       "      <td>0</td>\n",
       "      <td>0</td>\n",
       "    </tr>\n",
       "    <tr>\n",
       "      <th>12430</th>\n",
       "      <td>0</td>\n",
       "      <td>0</td>\n",
       "    </tr>\n",
       "    <tr>\n",
       "      <th>7152</th>\n",
       "      <td>1</td>\n",
       "      <td>1</td>\n",
       "    </tr>\n",
       "    <tr>\n",
       "      <th>...</th>\n",
       "      <td>...</td>\n",
       "      <td>...</td>\n",
       "    </tr>\n",
       "    <tr>\n",
       "      <th>2932</th>\n",
       "      <td>1</td>\n",
       "      <td>1</td>\n",
       "    </tr>\n",
       "    <tr>\n",
       "      <th>12930</th>\n",
       "      <td>0</td>\n",
       "      <td>0</td>\n",
       "    </tr>\n",
       "    <tr>\n",
       "      <th>17098</th>\n",
       "      <td>1</td>\n",
       "      <td>1</td>\n",
       "    </tr>\n",
       "    <tr>\n",
       "      <th>19574</th>\n",
       "      <td>0</td>\n",
       "      <td>0</td>\n",
       "    </tr>\n",
       "    <tr>\n",
       "      <th>2669</th>\n",
       "      <td>0</td>\n",
       "      <td>0</td>\n",
       "    </tr>\n",
       "  </tbody>\n",
       "</table>\n",
       "<p>4392 rows × 2 columns</p>\n",
       "</div>"
      ],
      "text/plain": [
       "       True Label  Prediction\n",
       "20060           0           0\n",
       "8589            0           0\n",
       "17105           0           0\n",
       "12430           0           0\n",
       "7152            1           1\n",
       "...           ...         ...\n",
       "2932            1           1\n",
       "12930           0           0\n",
       "17098           1           1\n",
       "19574           0           0\n",
       "2669            0           0\n",
       "\n",
       "[4392 rows x 2 columns]"
      ]
     },
     "execution_count": 23,
     "metadata": {},
     "output_type": "execute_result"
    }
   ],
   "source": [
    "results"
   ]
  },
  {
   "cell_type": "code",
   "execution_count": 24,
   "id": "10d94702",
   "metadata": {
    "scrolled": true
   },
   "outputs": [
    {
     "name": "stdout",
     "output_type": "stream",
     "text": [
      "Enter the text of the new email: Attention! Your PayPal account will close soon! Dear Member, We have faced some problems with your account Please update the account .If you do not update will be Closed. To Update your account, just confirm your informations. (It only takes a minute.) It's easy: 1. Click the link below to open a secure browser window. 2. Confirm that you're the owner of the account, and then follow the instructions. Relog in your account now\n",
      "\n",
      "This is a phishing email.\n"
     ]
    }
   ],
   "source": [
    "new_email = input(\"Enter the text of the new email: \")\n",
    "new_email_vector = vectorizer.transform([new_email])\n",
    "prediction = classifier.predict(new_email_vector)\n",
    "threshold = 0.5\n",
    "\n",
    "\n",
    "if prediction >= threshold:\n",
    "    print(\"\\nThis is a safe email.\")\n",
    "else:\n",
    "    print(\"\\nThis is a phishing email.\")\n"
   ]
  },
  {
   "cell_type": "code",
   "execution_count": 25,
   "id": "11ade08e",
   "metadata": {},
   "outputs": [
    {
     "name": "stdout",
     "output_type": "stream",
     "text": [
      "Enter the text of the new email: Attention! Your PayPal account will close soon! Dear Member, We have faced some problems with your account Please update the account .If you do not update will be Closed. To Update your account, just confirm your informations. (It only takes a minute.) It's easy: 1. Click the link below to open a secure browser window. 2. Confirm that you're the owner of the account, and then follow the instructions. Relog in your account now\n",
      "\n",
      "This is a phishing email with probability 0.9259804459999801\n"
     ]
    }
   ],
   "source": [
    "new_email = input(\"Enter the text of the new email: \")\n",
    "new_email_vector = vectorizer.transform([new_email])\n",
    "probabilities = classifier.predict_proba(new_email_vector)\n",
    "\n",
    "if probabilities[0][1] >= threshold:\n",
    "    print(\"\\nThis is a safe email with probability\", probabilities[0][1])\n",
    "else:\n",
    "    print(\"\\nThis is a phishing email with probability\", probabilities[0][0])\n"
   ]
  },
  {
   "cell_type": "markdown",
   "id": "a2c6c380",
   "metadata": {},
   "source": [
    "### Resources\n",
    "To learn Pandas: https://www.kaggle.com/learn/pandas\n",
    "\n",
    "For the blog on Oversampling: https://machinelearningmastery.com/random-oversampling-and-undersampling-for-imbalanced-classification/"
   ]
  },
  {
   "cell_type": "code",
   "execution_count": null,
   "id": "2688fa9e",
   "metadata": {},
   "outputs": [],
   "source": []
  }
 ],
 "metadata": {
  "kernelspec": {
   "display_name": "Python 3 (ipykernel)",
   "language": "python",
   "name": "python3"
  },
  "language_info": {
   "codemirror_mode": {
    "name": "ipython",
    "version": 3
   },
   "file_extension": ".py",
   "mimetype": "text/x-python",
   "name": "python",
   "nbconvert_exporter": "python",
   "pygments_lexer": "ipython3",
   "version": "3.12.7"
  },
  "varInspector": {
   "cols": {
    "lenName": 16,
    "lenType": 16,
    "lenVar": 40
   },
   "kernels_config": {
    "python": {
     "delete_cmd_postfix": "",
     "delete_cmd_prefix": "del ",
     "library": "var_list.py",
     "varRefreshCmd": "print(var_dic_list())"
    },
    "r": {
     "delete_cmd_postfix": ") ",
     "delete_cmd_prefix": "rm(",
     "library": "var_list.r",
     "varRefreshCmd": "cat(var_dic_list()) "
    }
   },
   "types_to_exclude": [
    "module",
    "function",
    "builtin_function_or_method",
    "instance",
    "_Feature"
   ],
   "window_display": false
  }
 },
 "nbformat": 4,
 "nbformat_minor": 5
}
