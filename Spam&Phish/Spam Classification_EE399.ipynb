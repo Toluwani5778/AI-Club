{
 "cells": [
  {
   "cell_type": "code",
   "execution_count": 1,
   "id": "d9be78d4",
   "metadata": {},
   "outputs": [],
   "source": [
    "#Import the necessary libraries\n",
    "import numpy as np\n",
    "import re\n",
    "import pandas as pd\n",
    "from sklearn.model_selection import train_test_split\n",
    "from sklearn.preprocessing import StandardScaler\n",
    "from sklearn.metrics import accuracy_score"
   ]
  },
  {
   "cell_type": "code",
   "execution_count": 2,
   "id": "37d68089",
   "metadata": {},
   "outputs": [],
   "source": [
    "# #Use the requests library to download the ZIP file and save it to your local machine\n",
    "# import requests\n",
    "# url = \"https://archive.ics.uci.edu/ml/machine-learning-databases/00228/smsspamcollection.zip\"\n",
    "# response = requests.get(url)\n",
    "# open(\"smsspamcollection.zip\", \"wb\").write(response.content)\n",
    "\n",
    "# #Next, use the zipfile library to unzip the file and extract the desired file\n",
    "# import zipfile\n",
    "# zip_ref = zipfile.ZipFile(\"smsspamcollection.zip\", \"r\")\n",
    "# zip_ref.extractall()\n",
    "# zip_ref.close()\n",
    "\n",
    "#Finally, use the pandas read_csv function to load the extracted file into a pandas dataframe\n",
    "df = pd.read_csv(\"SMSSpamCollection\", sep='\\t', names=['Label', 'Message'])\n"
   ]
  },
  {
   "cell_type": "code",
   "execution_count": 3,
   "id": "ff24f8d6",
   "metadata": {},
   "outputs": [
    {
     "data": {
      "text/html": [
       "<div>\n",
       "<style scoped>\n",
       "    .dataframe tbody tr th:only-of-type {\n",
       "        vertical-align: middle;\n",
       "    }\n",
       "\n",
       "    .dataframe tbody tr th {\n",
       "        vertical-align: top;\n",
       "    }\n",
       "\n",
       "    .dataframe thead th {\n",
       "        text-align: right;\n",
       "    }\n",
       "</style>\n",
       "<table border=\"1\" class=\"dataframe\">\n",
       "  <thead>\n",
       "    <tr style=\"text-align: right;\">\n",
       "      <th></th>\n",
       "      <th>Label</th>\n",
       "      <th>Message</th>\n",
       "    </tr>\n",
       "  </thead>\n",
       "  <tbody>\n",
       "    <tr>\n",
       "      <th>count</th>\n",
       "      <td>5572</td>\n",
       "      <td>5572</td>\n",
       "    </tr>\n",
       "    <tr>\n",
       "      <th>unique</th>\n",
       "      <td>2</td>\n",
       "      <td>5169</td>\n",
       "    </tr>\n",
       "    <tr>\n",
       "      <th>top</th>\n",
       "      <td>ham</td>\n",
       "      <td>Sorry, I'll call later</td>\n",
       "    </tr>\n",
       "    <tr>\n",
       "      <th>freq</th>\n",
       "      <td>4825</td>\n",
       "      <td>30</td>\n",
       "    </tr>\n",
       "  </tbody>\n",
       "</table>\n",
       "</div>"
      ],
      "text/plain": [
       "       Label                 Message\n",
       "count   5572                    5572\n",
       "unique     2                    5169\n",
       "top      ham  Sorry, I'll call later\n",
       "freq    4825                      30"
      ]
     },
     "execution_count": 3,
     "metadata": {},
     "output_type": "execute_result"
    }
   ],
   "source": [
    "df.describe()"
   ]
  },
  {
   "cell_type": "code",
   "execution_count": 4,
   "id": "16b835a6",
   "metadata": {},
   "outputs": [
    {
     "data": {
      "text/html": [
       "<div>\n",
       "<style scoped>\n",
       "    .dataframe tbody tr th:only-of-type {\n",
       "        vertical-align: middle;\n",
       "    }\n",
       "\n",
       "    .dataframe tbody tr th {\n",
       "        vertical-align: top;\n",
       "    }\n",
       "\n",
       "    .dataframe thead th {\n",
       "        text-align: right;\n",
       "    }\n",
       "</style>\n",
       "<table border=\"1\" class=\"dataframe\">\n",
       "  <thead>\n",
       "    <tr style=\"text-align: right;\">\n",
       "      <th></th>\n",
       "      <th>Label</th>\n",
       "      <th>Message</th>\n",
       "    </tr>\n",
       "  </thead>\n",
       "  <tbody>\n",
       "    <tr>\n",
       "      <th>0</th>\n",
       "      <td>ham</td>\n",
       "      <td>Go until jurong point, crazy.. Available only ...</td>\n",
       "    </tr>\n",
       "    <tr>\n",
       "      <th>1</th>\n",
       "      <td>ham</td>\n",
       "      <td>Ok lar... Joking wif u oni...</td>\n",
       "    </tr>\n",
       "    <tr>\n",
       "      <th>2</th>\n",
       "      <td>spam</td>\n",
       "      <td>Free entry in 2 a wkly comp to win FA Cup fina...</td>\n",
       "    </tr>\n",
       "    <tr>\n",
       "      <th>3</th>\n",
       "      <td>ham</td>\n",
       "      <td>U dun say so early hor... U c already then say...</td>\n",
       "    </tr>\n",
       "    <tr>\n",
       "      <th>4</th>\n",
       "      <td>ham</td>\n",
       "      <td>Nah I don't think he goes to usf, he lives aro...</td>\n",
       "    </tr>\n",
       "    <tr>\n",
       "      <th>...</th>\n",
       "      <td>...</td>\n",
       "      <td>...</td>\n",
       "    </tr>\n",
       "    <tr>\n",
       "      <th>5567</th>\n",
       "      <td>spam</td>\n",
       "      <td>This is the 2nd time we have tried 2 contact u...</td>\n",
       "    </tr>\n",
       "    <tr>\n",
       "      <th>5568</th>\n",
       "      <td>ham</td>\n",
       "      <td>Will ü b going to esplanade fr home?</td>\n",
       "    </tr>\n",
       "    <tr>\n",
       "      <th>5569</th>\n",
       "      <td>ham</td>\n",
       "      <td>Pity, * was in mood for that. So...any other s...</td>\n",
       "    </tr>\n",
       "    <tr>\n",
       "      <th>5570</th>\n",
       "      <td>ham</td>\n",
       "      <td>The guy did some bitching but I acted like i'd...</td>\n",
       "    </tr>\n",
       "    <tr>\n",
       "      <th>5571</th>\n",
       "      <td>ham</td>\n",
       "      <td>Rofl. Its true to its name</td>\n",
       "    </tr>\n",
       "  </tbody>\n",
       "</table>\n",
       "<p>5572 rows × 2 columns</p>\n",
       "</div>"
      ],
      "text/plain": [
       "     Label                                            Message\n",
       "0      ham  Go until jurong point, crazy.. Available only ...\n",
       "1      ham                      Ok lar... Joking wif u oni...\n",
       "2     spam  Free entry in 2 a wkly comp to win FA Cup fina...\n",
       "3      ham  U dun say so early hor... U c already then say...\n",
       "4      ham  Nah I don't think he goes to usf, he lives aro...\n",
       "...    ...                                                ...\n",
       "5567  spam  This is the 2nd time we have tried 2 contact u...\n",
       "5568   ham               Will ü b going to esplanade fr home?\n",
       "5569   ham  Pity, * was in mood for that. So...any other s...\n",
       "5570   ham  The guy did some bitching but I acted like i'd...\n",
       "5571   ham                         Rofl. Its true to its name\n",
       "\n",
       "[5572 rows x 2 columns]"
      ]
     },
     "execution_count": 4,
     "metadata": {},
     "output_type": "execute_result"
    }
   ],
   "source": [
    "df"
   ]
  },
  {
   "cell_type": "code",
   "execution_count": 5,
   "id": "6c62a212",
   "metadata": {},
   "outputs": [
    {
     "data": {
      "text/html": [
       "<div>\n",
       "<style scoped>\n",
       "    .dataframe tbody tr th:only-of-type {\n",
       "        vertical-align: middle;\n",
       "    }\n",
       "\n",
       "    .dataframe tbody tr th {\n",
       "        vertical-align: top;\n",
       "    }\n",
       "\n",
       "    .dataframe thead th {\n",
       "        text-align: right;\n",
       "    }\n",
       "</style>\n",
       "<table border=\"1\" class=\"dataframe\">\n",
       "  <thead>\n",
       "    <tr style=\"text-align: right;\">\n",
       "      <th></th>\n",
       "      <th>Label</th>\n",
       "      <th>Message</th>\n",
       "    </tr>\n",
       "  </thead>\n",
       "  <tbody>\n",
       "    <tr>\n",
       "      <th>0</th>\n",
       "      <td>ham</td>\n",
       "      <td>Go until jurong point, crazy.. Available only in bugis n great world la e buffet... Cine there got amore wat...</td>\n",
       "    </tr>\n",
       "    <tr>\n",
       "      <th>1</th>\n",
       "      <td>ham</td>\n",
       "      <td>Ok lar... Joking wif u oni...</td>\n",
       "    </tr>\n",
       "    <tr>\n",
       "      <th>2</th>\n",
       "      <td>spam</td>\n",
       "      <td>Free entry in 2 a wkly comp to win FA Cup final tkts 21st May 2005. Text FA to 87121 to receive entry question(std txt rate)T&amp;C's apply 08452810075over18's</td>\n",
       "    </tr>\n",
       "    <tr>\n",
       "      <th>3</th>\n",
       "      <td>ham</td>\n",
       "      <td>U dun say so early hor... U c already then say...</td>\n",
       "    </tr>\n",
       "    <tr>\n",
       "      <th>4</th>\n",
       "      <td>ham</td>\n",
       "      <td>Nah I don't think he goes to usf, he lives around here though</td>\n",
       "    </tr>\n",
       "  </tbody>\n",
       "</table>\n",
       "</div>"
      ],
      "text/plain": [
       "  Label   \n",
       "0   ham  \\\n",
       "1   ham   \n",
       "2  spam   \n",
       "3   ham   \n",
       "4   ham   \n",
       "\n",
       "                                                                                                                                                       Message  \n",
       "0                                              Go until jurong point, crazy.. Available only in bugis n great world la e buffet... Cine there got amore wat...  \n",
       "1                                                                                                                                Ok lar... Joking wif u oni...  \n",
       "2  Free entry in 2 a wkly comp to win FA Cup final tkts 21st May 2005. Text FA to 87121 to receive entry question(std txt rate)T&C's apply 08452810075over18's  \n",
       "3                                                                                                            U dun say so early hor... U c already then say...  \n",
       "4                                                                                                Nah I don't think he goes to usf, he lives around here though  "
      ]
     },
     "execution_count": 5,
     "metadata": {},
     "output_type": "execute_result"
    }
   ],
   "source": [
    "pd.options.display.max_colwidth = 1000\n",
    "df.head()"
   ]
  },
  {
   "cell_type": "code",
   "execution_count": 6,
   "id": "8424bbcb",
   "metadata": {},
   "outputs": [
    {
     "data": {
      "text/plain": [
       "Label\n",
       "ham     4825\n",
       "spam     747\n",
       "Name: count, dtype: int64"
      ]
     },
     "execution_count": 6,
     "metadata": {},
     "output_type": "execute_result"
    }
   ],
   "source": [
    "df[\"Label\"].value_counts()"
   ]
  },
  {
   "cell_type": "code",
   "execution_count": 7,
   "id": "6bf8a417",
   "metadata": {},
   "outputs": [
    {
     "data": {
      "image/png": "[encoded data removed]",
      "text/plain": [
       "<Figure size 640x480 with 1 Axes>"
      ]
     },
     "metadata": {},
     "output_type": "display_data"
    }
   ],
   "source": [
    "import seaborn as sns\n",
    "import matplotlib.pyplot as plt\n",
    "\n",
    "# Set the color palette for the plot\n",
    "palette = sns.color_palette([\"#1f77b4\", \"#2ca02c\"])\n",
    "# Plot the class distribution using seaborn's countplot function\n",
    "sns.countplot(x=\"Label\", data=df, palette=palette)\n",
    "\n",
    "# Add title and labels to the plot\n",
    "plt.title(\"Class Distribution of SMS Spam Collection\")\n",
    "plt.xlabel(\"Label\")\n",
    "plt.ylabel(\"Count\")\n",
    "\n",
    "# Display the plot\n",
    "plt.show()"
   ]
  },
  {
   "cell_type": "code",
   "execution_count": 8,
   "id": "b664b192",
   "metadata": {},
   "outputs": [
    {
     "name": "stdout",
     "output_type": "stream",
     "text": [
      "Label      0\n",
      "Message    0\n",
      "dtype: int64\n"
     ]
    }
   ],
   "source": [
    "# Check for null values in a specific column\n",
    "#print(df['Label'].isnull().any())\n",
    "\n",
    "# Check for null values in all columns\n",
    "#print(df.isnull().any())\n",
    "\n",
    "# Count the number of null values in a specific column\n",
    "#print(df['Label'].isnull().sum())\n",
    "\n",
    "# Count the number of null values in all columns\n",
    "print(df.isnull().sum())\n"
   ]
  },
  {
   "cell_type": "code",
   "execution_count": 9,
   "id": "799c3fe3",
   "metadata": {},
   "outputs": [
    {
     "name": "stdout",
     "output_type": "stream",
     "text": [
      "True\n"
     ]
    }
   ],
   "source": [
    "# Check for duplicates\n",
    "print(df.duplicated().any())"
   ]
  },
  {
   "cell_type": "code",
   "execution_count": 10,
   "id": "5fb646dc",
   "metadata": {},
   "outputs": [],
   "source": [
    "# Remove duplicates\n",
    "df = df.drop_duplicates()"
   ]
  },
  {
   "cell_type": "markdown",
   "id": "56f63196",
   "metadata": {},
   "source": [
    "By default, drop_duplicates() will keep the first occurrence of a duplicate row and remove all subsequent occurrences. You can specify the keep parameter to specify which occurrences of duplicates to keep. For example, keep='first' will keep the first occurrence and remove all others (the default behavior), while keep='last' will keep the last occurrence and remove all others.\n",
    "\n",
    "You can also specify the subset parameter to only consider a subset of columns when checking for duplicates. For example, df.drop_duplicates(subset=['col1', 'col2']) will only consider the col1 and col2 columns when checking for duplicates."
   ]
  },
  {
   "cell_type": "code",
   "execution_count": 11,
   "id": "8633d436",
   "metadata": {},
   "outputs": [
    {
     "name": "stdout",
     "output_type": "stream",
     "text": [
      "Label\n",
      "ham     4516\n",
      "spam     653\n",
      "dtype: int64\n"
     ]
    }
   ],
   "source": [
    "# Count the number of samples for each class\n",
    "class_counts = df.groupby('Label').size()\n",
    "\n",
    "print(class_counts)\n"
   ]
  },
  {
   "cell_type": "code",
   "execution_count": 12,
   "id": "572e9a60",
   "metadata": {},
   "outputs": [
    {
     "data": {
      "text/plain": [
       "Label\n",
       "ham     0.87367\n",
       "spam    0.12633\n",
       "Name: proportion, dtype: float64"
      ]
     },
     "execution_count": 12,
     "metadata": {},
     "output_type": "execute_result"
    }
   ],
   "source": [
    "#use the normalize parameter to get the relative frequencies of each class, rather than the counts\n",
    "df['Label'].value_counts(normalize=True)"
   ]
  },
  {
   "cell_type": "code",
   "execution_count": 13,
   "id": "656e7d27",
   "metadata": {},
   "outputs": [
    {
     "name": "stderr",
     "output_type": "stream",
     "text": [
      "C:\\Users\\hotpr\\AppData\\Local\\Temp\\ipykernel_19884\\2370706985.py:3: SettingWithCopyWarning: \n",
      "A value is trying to be set on a copy of a slice from a DataFrame.\n",
      "Try using .loc[row_indexer,col_indexer] = value instead\n",
      "\n",
      "See the caveats in the documentation: https://pandas.pydata.org/pandas-docs/stable/user_guide/indexing.html#returning-a-view-versus-a-copy\n",
      "  df['Label'] = le.fit_transform(df['Label'])\n"
     ]
    }
   ],
   "source": [
    "from sklearn.preprocessing import LabelEncoder\n",
    "le = LabelEncoder()\n",
    "df['Label'] = le.fit_transform(df['Label'])"
   ]
  },
  {
   "cell_type": "code",
   "execution_count": 14,
   "id": "d7685108",
   "metadata": {},
   "outputs": [
    {
     "data": {
      "text/plain": [
       "Label\n",
       "0    4516\n",
       "1     653\n",
       "Name: count, dtype: int64"
      ]
     },
     "execution_count": 14,
     "metadata": {},
     "output_type": "execute_result"
    }
   ],
   "source": [
    "df['Label'].value_counts()"
   ]
  },
  {
   "cell_type": "code",
   "execution_count": 15,
   "id": "f563ee06",
   "metadata": {},
   "outputs": [],
   "source": [
    "X = df['Message']\n",
    "y = df['Label']"
   ]
  },
  {
   "cell_type": "code",
   "execution_count": 16,
   "id": "6b20457f",
   "metadata": {},
   "outputs": [],
   "source": [
    "from sklearn.feature_extraction.text import TfidfVectorizer\n",
    "\n",
    "# # Reshape the x_train array to 1D\n",
    "# x_train = x_train.reshape(-1)\n",
    "# # Reshape the x_train array to 1D\n",
    "# x_test = x_test.reshape(-1)\n",
    "\n",
    "vectorizer = TfidfVectorizer()\n",
    "X = vectorizer.fit_transform(X)\n",
    "# X_test = vectorizer.transform(x_test)\n"
   ]
  },
  {
   "cell_type": "code",
   "execution_count": 17,
   "id": "37097346",
   "metadata": {},
   "outputs": [
    {
     "data": {
      "text/plain": [
       "Label\n",
       "0    4516\n",
       "1    4516\n",
       "Name: count, dtype: int64"
      ]
     },
     "execution_count": 17,
     "metadata": {},
     "output_type": "execute_result"
    }
   ],
   "source": [
    "import numpy as np\n",
    "from imblearn.over_sampling import RandomOverSampler\n",
    "\n",
    "# Reshape the input array from 1D to 2D\n",
    "# X = np.array(X).reshape(-1, 1)\n",
    "\n",
    "oversample = RandomOverSampler(sampling_strategy='minority')\n",
    "X, y = oversample.fit_resample(X, y)\n",
    "\n",
    "# Count the number of samples for each class after oversampling\n",
    "y.value_counts()"
   ]
  },
  {
   "cell_type": "code",
   "execution_count": 18,
   "id": "714fe452",
   "metadata": {},
   "outputs": [],
   "source": [
    "#80% of data were used for training and 20% for testing purposes\n",
    "X_train, X_test, y_train, y_test = train_test_split(X, y, test_size=0.2, random_state=42)"
   ]
  },
  {
   "cell_type": "markdown",
   "id": "43a034fc",
   "metadata": {},
   "source": [
    "we can convert words to vectors using either Count Vectorizer or by using TF-IDF Vectorizer.\n",
    "\n",
    "TF-IDF is better than Count Vectorizers because it not only focuses on the frequency of words present in the corpus but also provides the importance of the words. We can then remove the words that are less important for analysis, hence making the model building less complex by reducing the input dimensions."
   ]
  },
  {
   "cell_type": "markdown",
   "id": "b9698bc1",
   "metadata": {},
   "source": [
    "# Classifying using sklearn's pre-built classifiers\n",
    "In this step we will use some of the most popular classifiers out there and compare their results.\n",
    "\n",
    "## Classifiers used:\n",
    "spam classifier using logistic regression  \n",
    "email spam classification using Support Vector Machine(SVM)  \n",
    "spam classifier using naive bayes  \n",
    "spam classifier using decision tree  \n",
    "spam classifier using K-Nearest Neighbor(KNN)  \n",
    "spam classifier using Random Forest Classifier  \n",
    "We will make use of sklearn library. This amazing library has all of the above algorithms we just have to import them and it is as easy as that. No need to worry about all the maths and statistics behind it."
   ]
  },
  {
   "cell_type": "code",
   "execution_count": 19,
   "id": "f5cda260",
   "metadata": {},
   "outputs": [],
   "source": [
    "# #import sklearn packages for building classifiers\n",
    "# from sklearn.linear_model import LogisticRegression\n",
    "# from sklearn.svm import SVC\n",
    "# from sklearn.naive_bayes import MultinomialNB\n",
    "# from sklearn.tree import DecisionTreeClassifier\n",
    "# from sklearn.neighbors import KNeighborsClassifier\n",
    "# from sklearn.ensemble import RandomForestClassifier\n",
    "# from sklearn.metrics import f1_score"
   ]
  },
  {
   "cell_type": "code",
   "execution_count": 20,
   "id": "2f854195",
   "metadata": {},
   "outputs": [],
   "source": [
    "import pandas as pd\n",
    "import numpy as np\n",
    "from sklearn.model_selection import train_test_split\n",
    "from sklearn.metrics import (accuracy_score, precision_score, recall_score, f1_score, roc_auc_score,\n",
    "                             confusion_matrix, balanced_accuracy_score, cohen_kappa_score)\n",
    "from sklearn.linear_model import LogisticRegression, RidgeClassifier\n",
    "from sklearn.neighbors import KNeighborsClassifier\n",
    "from sklearn.naive_bayes import MultinomialNB\n",
    "from sklearn.tree import DecisionTreeClassifier\n",
    "from sklearn.ensemble import RandomForestClassifier, ExtraTreesClassifier, GradientBoostingClassifier, AdaBoostClassifier\n",
    "from sklearn.svm import SVC, LinearSVC\n",
    "from lightgbm import LGBMClassifier\n",
    "from xgboost import XGBClassifier\n",
    "from sklearn.ensemble import VotingClassifier\n",
    "from sklearn.neural_network import MLPClassifier"
   ]
  },
  {
   "cell_type": "code",
   "execution_count": 21,
   "id": "5b22adda",
   "metadata": {},
   "outputs": [],
   "source": [
    "# classifiers = {\n",
    "#     'Logistic Regression': LogisticRegression(random_state=42),\n",
    "#     'k-Nearest Neighbors': KNeighborsClassifier(),\n",
    "#     'Naive Bayes': MultinomialNB(),\n",
    "#     'Decision Tree': DecisionTreeClassifier(random_state=42),\n",
    "#     'Support Vector Machines - Linear': LinearSVC(dual=False),\n",
    "#     'Random Forest': RandomForestClassifier(random_state=42),\n",
    "#     'Extra Trees Classifier': ExtraTreesClassifier(random_state=42),\n",
    "#     'Light Gradient Boosting Machine': LGBMClassifier(random_state=42),\n",
    "#     'Gradient Boosting Classifier': GradientBoostingClassifier(random_state=42),\n",
    "#     'AdaBoost Classifier': AdaBoostClassifier(random_state=42),\n",
    "#     'XGBoost Classifier': XGBClassifier(use_label_encoder=False, eval_metric='logloss', random_state=42),\n",
    "#     'Ridge Classifier': RidgeClassifier(random_state=42),\n",
    "# }\n",
    "\n",
    "# voting_classifier = VotingClassifier(estimators=list(classifiers.items()), voting='hard')\n",
    "# classifiers['Voting Classifier'] = voting_classifier\n",
    "\n",
    "\n",
    "# # Calculate metrics for each classifier\n",
    "# metrics = []\n",
    "\n",
    "# for name, classifier in classifiers.items():\n",
    "#     classifier.fit(X_train, y_train)\n",
    "#     y_pred = classifier.predict(X_test)\n",
    "\n",
    "#     accuracy = accuracy_score(y_test, y_pred)\n",
    "#     #balanced_accuracy = balanced_accuracy_score(y_test, y_pred)\n",
    "#     precision = precision_score(y_test, y_pred)\n",
    "#     recall = recall_score(y_test, y_pred)\n",
    "#     f1 = f1_score(y_test, y_pred)\n",
    "#     cohen_kappa = cohen_kappa_score(y_test, y_pred)\n",
    "    \n",
    "#     metrics.append([name, accuracy, precision, recall, f1, cohen_kappa])\n",
    "\n",
    "# # Print metrics in a table\n",
    "# metrics_df = pd.DataFrame(metrics, columns=['Classifier', 'Accuracy', 'Precision', 'Recall', 'F1 Score', 'Cohen Kappa'])\n",
    "# print(metrics_df)"
   ]
  },
  {
   "cell_type": "code",
   "execution_count": 22,
   "id": "ead80492",
   "metadata": {},
   "outputs": [
    {
     "name": "stdout",
     "output_type": "stream",
     "text": [
      "[0 1 1 ... 0 1 1]\n"
     ]
    }
   ],
   "source": [
    "# create and train the Best Classifier from the one above\n",
    "from sklearn.naive_bayes import MultinomialNB\n",
    "# classifier = VotingClassifier(estimators=list(classifiers.items()), voting='hard').fit(X_train, y_train)\n",
    "classifier = MultinomialNB()\n",
    "classifier.fit(X_train, y_train)\n",
    "y_pred=classifier.predict(X_test)\n",
    "print(y_pred)"
   ]
  },
  {
   "cell_type": "code",
   "execution_count": 23,
   "id": "c7c6f609",
   "metadata": {},
   "outputs": [
    {
     "name": "stdout",
     "output_type": "stream",
     "text": [
      "              precision    recall  f1-score   support\n",
      "\n",
      "           0       0.98      0.99      0.98       899\n",
      "           1       0.99      0.98      0.98       908\n",
      "\n",
      "    accuracy                           0.98      1807\n",
      "   macro avg       0.98      0.98      0.98      1807\n",
      "weighted avg       0.98      0.98      0.98      1807\n",
      "\n",
      "\n",
      "Confusion Matrix: \n",
      " [[890   9]\n",
      " [ 21 887]]\n",
      "Accuracy: \n",
      " 0.9833978970669618\n"
     ]
    }
   ],
   "source": [
    "# Evaluating the model on the training data set\n",
    "from sklearn.metrics import classification_report, confusion_matrix, accuracy_score\n",
    "pred = classifier.predict(X_test)\n",
    "print(classification_report(y_test, pred))\n",
    "print()\n",
    "print(\"Confusion Matrix: \\n\", confusion_matrix(y_test, pred))\n",
    "print(\"Accuracy: \\n\", accuracy_score(y_test, pred))"
   ]
  },
  {
   "cell_type": "code",
   "execution_count": 24,
   "id": "1739097b",
   "metadata": {},
   "outputs": [],
   "source": [
    "# make predictions on the test set\n",
    "predictions = classifier.predict(X_test)\n",
    "\n",
    "# create a data frame with the true labels and predictions\n",
    "results = pd.DataFrame({\n",
    "    \"True Label\": y_test,\n",
    "    \"Prediction\": predictions\n",
    "})\n",
    "\n",
    "# create a column for the evaluation of the predictions\n",
    "#results[\"Evaluation\"] = np.where((results[\"True Label\"] == \"ham\") & (results[\"Prediction\"] == \"ham\"), \"TN\",\n",
    "                                 #np.where((results[\"True Label\"] == \"spam\") & (results[\"Prediction\"] == \"spam\"), \"TP\",\n",
    "                                 #np.where((results[\"True Label\"] == \"ham\") & (results[\"Prediction\"] == \"spam\"), \"FP\", \"FN\")))\n"
   ]
  },
  {
   "cell_type": "code",
   "execution_count": 25,
   "id": "d8cf1cbf",
   "metadata": {},
   "outputs": [
    {
     "data": {
      "text/html": [
       "<div>\n",
       "<style scoped>\n",
       "    .dataframe tbody tr th:only-of-type {\n",
       "        vertical-align: middle;\n",
       "    }\n",
       "\n",
       "    .dataframe tbody tr th {\n",
       "        vertical-align: top;\n",
       "    }\n",
       "\n",
       "    .dataframe thead th {\n",
       "        text-align: right;\n",
       "    }\n",
       "</style>\n",
       "<table border=\"1\" class=\"dataframe\">\n",
       "  <thead>\n",
       "    <tr style=\"text-align: right;\">\n",
       "      <th></th>\n",
       "      <th>True Label</th>\n",
       "      <th>Prediction</th>\n",
       "    </tr>\n",
       "  </thead>\n",
       "  <tbody>\n",
       "    <tr>\n",
       "      <th>2373</th>\n",
       "      <td>0</td>\n",
       "      <td>0</td>\n",
       "    </tr>\n",
       "    <tr>\n",
       "      <th>8209</th>\n",
       "      <td>1</td>\n",
       "      <td>1</td>\n",
       "    </tr>\n",
       "    <tr>\n",
       "      <th>8993</th>\n",
       "      <td>1</td>\n",
       "      <td>1</td>\n",
       "    </tr>\n",
       "    <tr>\n",
       "      <th>5239</th>\n",
       "      <td>1</td>\n",
       "      <td>1</td>\n",
       "    </tr>\n",
       "    <tr>\n",
       "      <th>6013</th>\n",
       "      <td>1</td>\n",
       "      <td>1</td>\n",
       "    </tr>\n",
       "    <tr>\n",
       "      <th>...</th>\n",
       "      <td>...</td>\n",
       "      <td>...</td>\n",
       "    </tr>\n",
       "    <tr>\n",
       "      <th>8722</th>\n",
       "      <td>1</td>\n",
       "      <td>1</td>\n",
       "    </tr>\n",
       "    <tr>\n",
       "      <th>1281</th>\n",
       "      <td>0</td>\n",
       "      <td>0</td>\n",
       "    </tr>\n",
       "    <tr>\n",
       "      <th>971</th>\n",
       "      <td>0</td>\n",
       "      <td>0</td>\n",
       "    </tr>\n",
       "    <tr>\n",
       "      <th>8584</th>\n",
       "      <td>1</td>\n",
       "      <td>1</td>\n",
       "    </tr>\n",
       "    <tr>\n",
       "      <th>4478</th>\n",
       "      <td>1</td>\n",
       "      <td>1</td>\n",
       "    </tr>\n",
       "  </tbody>\n",
       "</table>\n",
       "<p>1807 rows × 2 columns</p>\n",
       "</div>"
      ],
      "text/plain": [
       "      True Label  Prediction\n",
       "2373           0           0\n",
       "8209           1           1\n",
       "8993           1           1\n",
       "5239           1           1\n",
       "6013           1           1\n",
       "...          ...         ...\n",
       "8722           1           1\n",
       "1281           0           0\n",
       "971            0           0\n",
       "8584           1           1\n",
       "4478           1           1\n",
       "\n",
       "[1807 rows x 2 columns]"
      ]
     },
     "execution_count": 25,
     "metadata": {},
     "output_type": "execute_result"
    }
   ],
   "source": [
    "results"
   ]
  },
  {
   "cell_type": "code",
   "execution_count": 32,
   "id": "10d94702",
   "metadata": {
    "scrolled": true
   },
   "outputs": [
    {
     "name": "stdout",
     "output_type": "stream",
     "text": [
      "Enter the text of the new email: I hope you are all doing well. I just wanted to remind you all that there will be a game night tonight at the chapel from 8-10 p.m. There will be snacks and soda provided. If you are going to Regi and don't want to dance the whole night, you should totally come by or if you aren't going to Regi but want to have some fellowship then please come. Feel free to invite friends. It's meant to be a chill time to hang out and play some fun games. Have a great day everyone.\n",
      "The email is classified as ham.\n"
     ]
    }
   ],
   "source": [
    "new_email = input(\"Enter the text of the new email: \")\n",
    "new_email_vector = vectorizer.transform([new_email])\n",
    "prediction = classifier.predict(new_email_vector)\n",
    "threshold = 0.5\n",
    "\n",
    "\n",
    "if prediction >= threshold:\n",
    "    print(\"The email is classified as spam.\")\n",
    "else:\n",
    "    print(\"The email is classified as ham.\")\n"
   ]
  },
  {
   "cell_type": "code",
   "execution_count": 27,
   "id": "11ade08e",
   "metadata": {},
   "outputs": [
    {
     "name": "stdout",
     "output_type": "stream",
     "text": [
      "Enter the text of the new email: Congrats!! rodionpedyuk: You're the winner of the brand new 𝗛𝗮𝗿𝗯𝗼𝗿 𝗣𝗿𝗲𝘀𝘀𝘂𝗿𝗲 𝗪𝗮𝘀𝗵𝗲𝗿 ID:079199\n",
      "The email is classified as spam with probability 0.871647838899353\n"
     ]
    }
   ],
   "source": [
    "new_email = input(\"Enter the text of the new email: \")\n",
    "new_email_vector = vectorizer.transform([new_email])\n",
    "probabilities = classifier.predict_proba(new_email_vector)\n",
    "\n",
    "if probabilities[0][1] >= threshold:\n",
    "    print(\"The email is classified as spam with probability\", probabilities[0][1])\n",
    "else:\n",
    "    print(\"The email is classified as ham with probability\", probabilities[0][0])\n"
   ]
  },
  {
   "cell_type": "markdown",
   "id": "8ac75e84",
   "metadata": {},
   "source": [
    "You might have accidentally used another model to replace it"
   ]
  },
  {
   "cell_type": "code",
   "execution_count": 28,
   "id": "5094d684",
   "metadata": {},
   "outputs": [
    {
     "data": {
      "text/plain": [
       "array([[0.12835216, 0.87164784]])"
      ]
     },
     "execution_count": 28,
     "metadata": {},
     "output_type": "execute_result"
    }
   ],
   "source": [
    "probabilities "
   ]
  },
  {
   "cell_type": "code",
   "execution_count": 30,
   "id": "0dd2bbc5",
   "metadata": {},
   "outputs": [
    {
     "data": {
      "text/plain": [
       "['SpamModel.joblib']"
      ]
     },
     "execution_count": 30,
     "metadata": {},
     "output_type": "execute_result"
    }
   ],
   "source": [
    "import joblib\n",
    "\n",
    "# Save the model to a file\n",
    "model_filename = \"SpamModel.joblib\"\n",
    "joblib.dump(classifier, model_filename)\n"
   ]
  },
  {
   "cell_type": "code",
   "execution_count": null,
   "id": "1041174a",
   "metadata": {},
   "outputs": [],
   "source": []
  }
 ],
 "metadata": {
  "kernelspec": {
   "display_name": "Python 3 (ipykernel)",
   "language": "python",
   "name": "python3"
  },
  "language_info": {
   "codemirror_mode": {
    "name": "ipython",
    "version": 3
   },
   "file_extension": ".py",
   "mimetype": "text/x-python",
   "name": "python",
   "nbconvert_exporter": "python",
   "pygments_lexer": "ipython3",
   "version": "3.12.7"
  },
  "varInspector": {
   "cols": {
    "lenName": 16,
    "lenType": 16,
    "lenVar": 40
   },
   "kernels_config": {
    "python": {
     "delete_cmd_postfix": "",
     "delete_cmd_prefix": "del ",
     "library": "var_list.py",
     "varRefreshCmd": "print(var_dic_list())"
    },
    "r": {
     "delete_cmd_postfix": ") ",
     "delete_cmd_prefix": "rm(",
     "library": "var_list.r",
     "varRefreshCmd": "cat(var_dic_list()) "
    }
   },
   "types_to_exclude": [
    "module",
    "function",
    "builtin_function_or_method",
    "instance",
    "_Feature"
   ],
   "window_display": false
  }
 },
 "nbformat": 4,
 "nbformat_minor": 5
}
