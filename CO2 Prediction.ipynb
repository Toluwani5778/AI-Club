{
 "cells": [
  {
   "cell_type": "markdown",
   "id": "9607abbd",
   "metadata": {},
   "source": [
    "Machine learning is the process of creating algorithms that can learn from data and make predictions or decisions without being explicitly programmed. The process can be broken down into several steps. Here's a step-by-step explanation of the machine learning process from scratch:\n",
    "\n",
    "1. Define the problem: Clearly identify the problem you want to solve. This could be a classification problem (e.g., categorizing emails as spam or not spam), a regression problem (e.g., predicting house prices), or a clustering problem (e.g., grouping similar items).\n",
    "\n",
    "2. Collect data: Gather a dataset relevant to your problem. This dataset can be collected through various means such as scraping websites, using APIs, or using pre-existing datasets. Ensure that the data is representative of the problem you want to solve.\n",
    "\n",
    "3. Preprocess data: Clean and preprocess the data to remove any inconsistencies, errors, or missing values. This step can involve data wrangling, data transformation, and feature engineering. The aim is to make the data more suitable for the machine learning algorithms.\n",
    "\n",
    "4. Split data: Divide the dataset into a training set, a validation set, and a test set. The training set is used to train the model, the validation set is used to tune hyperparameters and select the best model, and the test set is used to evaluate the final model's performance.\n",
    "\n",
    "5. Choose a model: Select a suitable machine learning algorithm for your problem. This decision depends on the nature of the problem, the size of the dataset, and the desired complexity of the model. Examples include linear regression, decision trees, and neural networks.\n",
    "\n",
    "6. Train the model: Use the training data to teach the chosen algorithm by adjusting its parameters to minimize the error between the model's predictions and the actual values. This is often achieved using optimization algorithms such as gradient descent.\n",
    "\n",
    "7. Evaluate the model: Measure the performance of the trained model on the validation set. This will give you an idea of how well the model generalizes to new, unseen data. Common evaluation metrics include accuracy, precision, recall, F1 score, and mean squared error.\n",
    "\n",
    "8. Tune hyperparameters: Adjust the hyperparameters of the model to improve its performance on the validation set. Hyperparameters are the parameters that cannot be learned directly from the data, such as the learning rate, the depth of a decision tree, or the number of hidden layers in a neural network.\n",
    "\n",
    "9. Validate the model: After tuning the hyperparameters, retrain the model on the combined training and validation sets. Evaluate the model's performance on the test set to get an unbiased estimate of its generalization capabilities.\n",
    "\n",
    "10. Deploy the model: Integrate the trained and validated model into a production environment or application. This can involve creating APIs, web services, or embedding the model within existing software systems.\n",
    "\n",
    "11. Monitor and maintain: Continuously monitor the model's performance and update it with new data or retrain it as needed to ensure it remains accurate and relevant. This step is essential to adapt to changes in the underlying data distribution and maintain model effectiveness over time."
   ]
  },
  {
   "cell_type": "markdown",
   "id": "e1eaa22a",
   "metadata": {},
   "source": [
    "**Problem Statement:**\n",
    "\n",
    "As an aspiring data scientist, you have been provided with a dataset containing information about various cars and their corresponding CO2 emissions. The dataset includes the following features: car brand, model, engine volume, and weight. Your task is to apply machine learning techniques to this dataset in order to create a model that can predict CO2 emissions based on the engine volume and weight of a car.\n",
    "\n",
    "To complete this task, you should:\n",
    "\n",
    "1. Perform exploratory data analysis to understand the dataset and identify any potential issues, such as missing or inconsistent values.\n",
    "2. Preprocess the dataset to prepare it for machine learning, including handling missing values, converting categorical variables to numerical values (if necessary), and normalizing or standardizing the features.\n",
    "3. Split the dataset into training and testing sets.\n",
    "4. Select and train a suitable machine learning algorithm, such as linear regression or k-nearest neighbors, on the training set.\n",
    "5. Evaluate the performance of your trained model on the testing set using appropriate metrics, such as mean squared error, mean absolute error, and R-squared score.\n",
    "6. Optimize the model by adjusting hyperparameters or trying different algorithms, if necessary.\n",
    "7. Use the trained model to make predictions for new instances.\n",
    "8. Your final deliverable should include a detailed report on your findings, including the steps you took to preprocess the dataset, the machine learning algorithms you experimented with, the performance metrics obtained, and any insights or recommendations you have based on the results. Additionally, you should provide a working implementation of your model in a programming language of your choice, such as Python, along with instructions on how to use it to make predictions for new instances."
   ]
  },
  {
   "cell_type": "code",
   "execution_count": 3,
   "id": "5c81e842",
   "metadata": {},
   "outputs": [],
   "source": [
    "#Load the dataset as a pandas DataFrame\n",
    "import pandas as pd\n",
    "\n",
    "df = pd.read_csv('cars.csv')\n"
   ]
  },
  {
   "cell_type": "code",
   "execution_count": 4,
   "id": "d6d4d808",
   "metadata": {},
   "outputs": [
    {
     "data": {
      "text/html": [
       "<div>\n",
       "<style scoped>\n",
       "    .dataframe tbody tr th:only-of-type {\n",
       "        vertical-align: middle;\n",
       "    }\n",
       "\n",
       "    .dataframe tbody tr th {\n",
       "        vertical-align: top;\n",
       "    }\n",
       "\n",
       "    .dataframe thead th {\n",
       "        text-align: right;\n",
       "    }\n",
       "</style>\n",
       "<table border=\"1\" class=\"dataframe\">\n",
       "  <thead>\n",
       "    <tr style=\"text-align: right;\">\n",
       "      <th></th>\n",
       "      <th>Car</th>\n",
       "      <th>Model</th>\n",
       "      <th>Volume</th>\n",
       "      <th>Weight</th>\n",
       "      <th>CO2</th>\n",
       "    </tr>\n",
       "  </thead>\n",
       "  <tbody>\n",
       "    <tr>\n",
       "      <th>0</th>\n",
       "      <td>Toyoty</td>\n",
       "      <td>Aygo</td>\n",
       "      <td>1000</td>\n",
       "      <td>790</td>\n",
       "      <td>99</td>\n",
       "    </tr>\n",
       "    <tr>\n",
       "      <th>1</th>\n",
       "      <td>Mitsubishi</td>\n",
       "      <td>Space Star</td>\n",
       "      <td>1200</td>\n",
       "      <td>1160</td>\n",
       "      <td>95</td>\n",
       "    </tr>\n",
       "    <tr>\n",
       "      <th>2</th>\n",
       "      <td>Skoda</td>\n",
       "      <td>Citigo</td>\n",
       "      <td>1000</td>\n",
       "      <td>929</td>\n",
       "      <td>95</td>\n",
       "    </tr>\n",
       "    <tr>\n",
       "      <th>3</th>\n",
       "      <td>Fiat</td>\n",
       "      <td>500</td>\n",
       "      <td>900</td>\n",
       "      <td>865</td>\n",
       "      <td>90</td>\n",
       "    </tr>\n",
       "    <tr>\n",
       "      <th>4</th>\n",
       "      <td>Mini</td>\n",
       "      <td>Cooper</td>\n",
       "      <td>1500</td>\n",
       "      <td>1140</td>\n",
       "      <td>105</td>\n",
       "    </tr>\n",
       "  </tbody>\n",
       "</table>\n",
       "</div>"
      ],
      "text/plain": [
       "          Car       Model  Volume  Weight  CO2\n",
       "0      Toyoty        Aygo    1000     790   99\n",
       "1  Mitsubishi  Space Star    1200    1160   95\n",
       "2       Skoda      Citigo    1000     929   95\n",
       "3        Fiat         500     900     865   90\n",
       "4        Mini      Cooper    1500    1140  105"
      ]
     },
     "execution_count": 4,
     "metadata": {},
     "output_type": "execute_result"
    }
   ],
   "source": [
    "df.head() # view the first 5 rows"
   ]
  },
  {
   "cell_type": "code",
   "execution_count": 5,
   "id": "294603c5",
   "metadata": {},
   "outputs": [
    {
     "data": {
      "text/plain": [
       "(36, 5)"
      ]
     },
     "execution_count": 5,
     "metadata": {},
     "output_type": "execute_result"
    }
   ],
   "source": [
    "df.shape # view shape of dataset (36 rows and 5 columns)"
   ]
  },
  {
   "cell_type": "code",
   "execution_count": 6,
   "id": "3b4d98ad",
   "metadata": {},
   "outputs": [
    {
     "name": "stdout",
     "output_type": "stream",
     "text": [
      "Car       0\n",
      "Model     0\n",
      "Volume    0\n",
      "Weight    0\n",
      "CO2       0\n",
      "dtype: int64\n"
     ]
    }
   ],
   "source": [
    "#Check the dataset for missing values\n",
    "print(df.isnull().sum())\n"
   ]
  },
  {
   "cell_type": "markdown",
   "id": "729f81b0",
   "metadata": {},
   "source": [
    "If there are missing values, you can either fill them with appropriate values using .fillna() method or drop the rows containing missing values using .dropna() method."
   ]
  },
  {
   "cell_type": "code",
   "execution_count": 8,
   "id": "324977a6",
   "metadata": {},
   "outputs": [],
   "source": [
    "#Drop the 'Car' and 'Model' columns since they likely won't contribute to the prediction of CO2 emissions\n",
    "df = df.drop(['Car', 'Model'], axis=1)"
   ]
  },
  {
   "cell_type": "code",
   "execution_count": 9,
   "id": "48daf8c2",
   "metadata": {},
   "outputs": [],
   "source": [
    "#Split the dataset into features (X) and target (y)\n",
    "X = df.drop('CO2', axis=1)\n",
    "y = df['CO2']\n",
    "\n",
    "#X = df.iloc[:, :-1]  # Select all columns except the last one\n",
    "#y = df.iloc[:, -1]   # Select only the last column\n"
   ]
  },
  {
   "cell_type": "markdown",
   "id": "8567ba01",
   "metadata": {},
   "source": [
    "Normalize or standardize the features if necessary. In this case, the 'Volume' and 'Weight' columns have different scales, so it's a good idea to standardize them"
   ]
  },
  {
   "cell_type": "code",
   "execution_count": 11,
   "id": "12ca627f",
   "metadata": {},
   "outputs": [],
   "source": [
    "from sklearn.preprocessing import StandardScaler\n",
    "\n",
    "scaler = StandardScaler() # initialize the standard scaler class\n",
    "X_scaled = scaler.fit_transform(X) # scale the features "
   ]
  },
  {
   "cell_type": "code",
   "execution_count": 12,
   "id": "88f2cbb9",
   "metadata": {},
   "outputs": [],
   "source": [
    "#Split the data into training and testing sets\n",
    "from sklearn.model_selection import train_test_split\n",
    "\n",
    "X_train, X_test, y_train, y_test = train_test_split(X_scaled, y, test_size=0.1, random_state=42) # test set 10 %, train set 90 %\n"
   ]
  },
  {
   "cell_type": "code",
   "execution_count": 13,
   "id": "76801043",
   "metadata": {},
   "outputs": [
    {
     "data": {
      "text/plain": [
       "(4, 2)"
      ]
     },
     "execution_count": 13,
     "metadata": {},
     "output_type": "execute_result"
    }
   ],
   "source": [
    "X_test.shape # 4 rows, 2 columns (Volume and weight)"
   ]
  },
  {
   "cell_type": "code",
   "execution_count": 14,
   "id": "d0c46d14",
   "metadata": {},
   "outputs": [
    {
     "data": {
      "text/html": [
       "<style>#sk-container-id-1 {\n",
       "  /* Definition of color scheme common for light and dark mode */\n",
       "  --sklearn-color-text: black;\n",
       "  --sklearn-color-line: gray;\n",
       "  /* Definition of color scheme for unfitted estimators */\n",
       "  --sklearn-color-unfitted-level-0: #fff5e6;\n",
       "  --sklearn-color-unfitted-level-1: #f6e4d2;\n",
       "  --sklearn-color-unfitted-level-2: #ffe0b3;\n",
       "  --sklearn-color-unfitted-level-3: chocolate;\n",
       "  /* Definition of color scheme for fitted estimators */\n",
       "  --sklearn-color-fitted-level-0: #f0f8ff;\n",
       "  --sklearn-color-fitted-level-1: #d4ebff;\n",
       "  --sklearn-color-fitted-level-2: #b3dbfd;\n",
       "  --sklearn-color-fitted-level-3: cornflowerblue;\n",
       "\n",
       "  /* Specific color for light theme */\n",
       "  --sklearn-color-text-on-default-background: var(--sg-text-color, var(--theme-code-foreground, var(--jp-content-font-color1, black)));\n",
       "  --sklearn-color-background: var(--sg-background-color, var(--theme-background, var(--jp-layout-color0, white)));\n",
       "  --sklearn-color-border-box: var(--sg-text-color, var(--theme-code-foreground, var(--jp-content-font-color1, black)));\n",
       "  --sklearn-color-icon: #696969;\n",
       "\n",
       "  @media (prefers-color-scheme: dark) {\n",
       "    /* Redefinition of color scheme for dark theme */\n",
       "    --sklearn-color-text-on-default-background: var(--sg-text-color, var(--theme-code-foreground, var(--jp-content-font-color1, white)));\n",
       "    --sklearn-color-background: var(--sg-background-color, var(--theme-background, var(--jp-layout-color0, #111)));\n",
       "    --sklearn-color-border-box: var(--sg-text-color, var(--theme-code-foreground, var(--jp-content-font-color1, white)));\n",
       "    --sklearn-color-icon: #878787;\n",
       "  }\n",
       "}\n",
       "\n",
       "#sk-container-id-1 {\n",
       "  color: var(--sklearn-color-text);\n",
       "}\n",
       "\n",
       "#sk-container-id-1 pre {\n",
       "  padding: 0;\n",
       "}\n",
       "\n",
       "#sk-container-id-1 input.sk-hidden--visually {\n",
       "  border: 0;\n",
       "  clip: rect(1px 1px 1px 1px);\n",
       "  clip: rect(1px, 1px, 1px, 1px);\n",
       "  height: 1px;\n",
       "  margin: -1px;\n",
       "  overflow: hidden;\n",
       "  padding: 0;\n",
       "  position: absolute;\n",
       "  width: 1px;\n",
       "}\n",
       "\n",
       "#sk-container-id-1 div.sk-dashed-wrapped {\n",
       "  border: 1px dashed var(--sklearn-color-line);\n",
       "  margin: 0 0.4em 0.5em 0.4em;\n",
       "  box-sizing: border-box;\n",
       "  padding-bottom: 0.4em;\n",
       "  background-color: var(--sklearn-color-background);\n",
       "}\n",
       "\n",
       "#sk-container-id-1 div.sk-container {\n",
       "  /* jupyter's `normalize.less` sets `[hidden] { display: none; }`\n",
       "     but bootstrap.min.css set `[hidden] { display: none !important; }`\n",
       "     so we also need the `!important` here to be able to override the\n",
       "     default hidden behavior on the sphinx rendered scikit-learn.org.\n",
       "     See: https://github.com/scikit-learn/scikit-learn/issues/21755 */\n",
       "  display: inline-block !important;\n",
       "  position: relative;\n",
       "}\n",
       "\n",
       "#sk-container-id-1 div.sk-text-repr-fallback {\n",
       "  display: none;\n",
       "}\n",
       "\n",
       "div.sk-parallel-item,\n",
       "div.sk-serial,\n",
       "div.sk-item {\n",
       "  /* draw centered vertical line to link estimators */\n",
       "  background-image: linear-gradient(var(--sklearn-color-text-on-default-background), var(--sklearn-color-text-on-default-background));\n",
       "  background-size: 2px 100%;\n",
       "  background-repeat: no-repeat;\n",
       "  background-position: center center;\n",
       "}\n",
       "\n",
       "/* Parallel-specific style estimator block */\n",
       "\n",
       "#sk-container-id-1 div.sk-parallel-item::after {\n",
       "  content: \"\";\n",
       "  width: 100%;\n",
       "  border-bottom: 2px solid var(--sklearn-color-text-on-default-background);\n",
       "  flex-grow: 1;\n",
       "}\n",
       "\n",
       "#sk-container-id-1 div.sk-parallel {\n",
       "  display: flex;\n",
       "  align-items: stretch;\n",
       "  justify-content: center;\n",
       "  background-color: var(--sklearn-color-background);\n",
       "  position: relative;\n",
       "}\n",
       "\n",
       "#sk-container-id-1 div.sk-parallel-item {\n",
       "  display: flex;\n",
       "  flex-direction: column;\n",
       "}\n",
       "\n",
       "#sk-container-id-1 div.sk-parallel-item:first-child::after {\n",
       "  align-self: flex-end;\n",
       "  width: 50%;\n",
       "}\n",
       "\n",
       "#sk-container-id-1 div.sk-parallel-item:last-child::after {\n",
       "  align-self: flex-start;\n",
       "  width: 50%;\n",
       "}\n",
       "\n",
       "#sk-container-id-1 div.sk-parallel-item:only-child::after {\n",
       "  width: 0;\n",
       "}\n",
       "\n",
       "/* Serial-specific style estimator block */\n",
       "\n",
       "#sk-container-id-1 div.sk-serial {\n",
       "  display: flex;\n",
       "  flex-direction: column;\n",
       "  align-items: center;\n",
       "  background-color: var(--sklearn-color-background);\n",
       "  padding-right: 1em;\n",
       "  padding-left: 1em;\n",
       "}\n",
       "\n",
       "\n",
       "/* Toggleable style: style used for estimator/Pipeline/ColumnTransformer box that is\n",
       "clickable and can be expanded/collapsed.\n",
       "- Pipeline and ColumnTransformer use this feature and define the default style\n",
       "- Estimators will overwrite some part of the style using the `sk-estimator` class\n",
       "*/\n",
       "\n",
       "/* Pipeline and ColumnTransformer style (default) */\n",
       "\n",
       "#sk-container-id-1 div.sk-toggleable {\n",
       "  /* Default theme specific background. It is overwritten whether we have a\n",
       "  specific estimator or a Pipeline/ColumnTransformer */\n",
       "  background-color: var(--sklearn-color-background);\n",
       "}\n",
       "\n",
       "/* Toggleable label */\n",
       "#sk-container-id-1 label.sk-toggleable__label {\n",
       "  cursor: pointer;\n",
       "  display: block;\n",
       "  width: 100%;\n",
       "  margin-bottom: 0;\n",
       "  padding: 0.5em;\n",
       "  box-sizing: border-box;\n",
       "  text-align: center;\n",
       "}\n",
       "\n",
       "#sk-container-id-1 label.sk-toggleable__label-arrow:before {\n",
       "  /* Arrow on the left of the label */\n",
       "  content: \"▸\";\n",
       "  float: left;\n",
       "  margin-right: 0.25em;\n",
       "  color: var(--sklearn-color-icon);\n",
       "}\n",
       "\n",
       "#sk-container-id-1 label.sk-toggleable__label-arrow:hover:before {\n",
       "  color: var(--sklearn-color-text);\n",
       "}\n",
       "\n",
       "/* Toggleable content - dropdown */\n",
       "\n",
       "#sk-container-id-1 div.sk-toggleable__content {\n",
       "  max-height: 0;\n",
       "  max-width: 0;\n",
       "  overflow: hidden;\n",
       "  text-align: left;\n",
       "  /* unfitted */\n",
       "  background-color: var(--sklearn-color-unfitted-level-0);\n",
       "}\n",
       "\n",
       "#sk-container-id-1 div.sk-toggleable__content.fitted {\n",
       "  /* fitted */\n",
       "  background-color: var(--sklearn-color-fitted-level-0);\n",
       "}\n",
       "\n",
       "#sk-container-id-1 div.sk-toggleable__content pre {\n",
       "  margin: 0.2em;\n",
       "  border-radius: 0.25em;\n",
       "  color: var(--sklearn-color-text);\n",
       "  /* unfitted */\n",
       "  background-color: var(--sklearn-color-unfitted-level-0);\n",
       "}\n",
       "\n",
       "#sk-container-id-1 div.sk-toggleable__content.fitted pre {\n",
       "  /* unfitted */\n",
       "  background-color: var(--sklearn-color-fitted-level-0);\n",
       "}\n",
       "\n",
       "#sk-container-id-1 input.sk-toggleable__control:checked~div.sk-toggleable__content {\n",
       "  /* Expand drop-down */\n",
       "  max-height: 200px;\n",
       "  max-width: 100%;\n",
       "  overflow: auto;\n",
       "}\n",
       "\n",
       "#sk-container-id-1 input.sk-toggleable__control:checked~label.sk-toggleable__label-arrow:before {\n",
       "  content: \"▾\";\n",
       "}\n",
       "\n",
       "/* Pipeline/ColumnTransformer-specific style */\n",
       "\n",
       "#sk-container-id-1 div.sk-label input.sk-toggleable__control:checked~label.sk-toggleable__label {\n",
       "  color: var(--sklearn-color-text);\n",
       "  background-color: var(--sklearn-color-unfitted-level-2);\n",
       "}\n",
       "\n",
       "#sk-container-id-1 div.sk-label.fitted input.sk-toggleable__control:checked~label.sk-toggleable__label {\n",
       "  background-color: var(--sklearn-color-fitted-level-2);\n",
       "}\n",
       "\n",
       "/* Estimator-specific style */\n",
       "\n",
       "/* Colorize estimator box */\n",
       "#sk-container-id-1 div.sk-estimator input.sk-toggleable__control:checked~label.sk-toggleable__label {\n",
       "  /* unfitted */\n",
       "  background-color: var(--sklearn-color-unfitted-level-2);\n",
       "}\n",
       "\n",
       "#sk-container-id-1 div.sk-estimator.fitted input.sk-toggleable__control:checked~label.sk-toggleable__label {\n",
       "  /* fitted */\n",
       "  background-color: var(--sklearn-color-fitted-level-2);\n",
       "}\n",
       "\n",
       "#sk-container-id-1 div.sk-label label.sk-toggleable__label,\n",
       "#sk-container-id-1 div.sk-label label {\n",
       "  /* The background is the default theme color */\n",
       "  color: var(--sklearn-color-text-on-default-background);\n",
       "}\n",
       "\n",
       "/* On hover, darken the color of the background */\n",
       "#sk-container-id-1 div.sk-label:hover label.sk-toggleable__label {\n",
       "  color: var(--sklearn-color-text);\n",
       "  background-color: var(--sklearn-color-unfitted-level-2);\n",
       "}\n",
       "\n",
       "/* Label box, darken color on hover, fitted */\n",
       "#sk-container-id-1 div.sk-label.fitted:hover label.sk-toggleable__label.fitted {\n",
       "  color: var(--sklearn-color-text);\n",
       "  background-color: var(--sklearn-color-fitted-level-2);\n",
       "}\n",
       "\n",
       "/* Estimator label */\n",
       "\n",
       "#sk-container-id-1 div.sk-label label {\n",
       "  font-family: monospace;\n",
       "  font-weight: bold;\n",
       "  display: inline-block;\n",
       "  line-height: 1.2em;\n",
       "}\n",
       "\n",
       "#sk-container-id-1 div.sk-label-container {\n",
       "  text-align: center;\n",
       "}\n",
       "\n",
       "/* Estimator-specific */\n",
       "#sk-container-id-1 div.sk-estimator {\n",
       "  font-family: monospace;\n",
       "  border: 1px dotted var(--sklearn-color-border-box);\n",
       "  border-radius: 0.25em;\n",
       "  box-sizing: border-box;\n",
       "  margin-bottom: 0.5em;\n",
       "  /* unfitted */\n",
       "  background-color: var(--sklearn-color-unfitted-level-0);\n",
       "}\n",
       "\n",
       "#sk-container-id-1 div.sk-estimator.fitted {\n",
       "  /* fitted */\n",
       "  background-color: var(--sklearn-color-fitted-level-0);\n",
       "}\n",
       "\n",
       "/* on hover */\n",
       "#sk-container-id-1 div.sk-estimator:hover {\n",
       "  /* unfitted */\n",
       "  background-color: var(--sklearn-color-unfitted-level-2);\n",
       "}\n",
       "\n",
       "#sk-container-id-1 div.sk-estimator.fitted:hover {\n",
       "  /* fitted */\n",
       "  background-color: var(--sklearn-color-fitted-level-2);\n",
       "}\n",
       "\n",
       "/* Specification for estimator info (e.g. \"i\" and \"?\") */\n",
       "\n",
       "/* Common style for \"i\" and \"?\" */\n",
       "\n",
       ".sk-estimator-doc-link,\n",
       "a:link.sk-estimator-doc-link,\n",
       "a:visited.sk-estimator-doc-link {\n",
       "  float: right;\n",
       "  font-size: smaller;\n",
       "  line-height: 1em;\n",
       "  font-family: monospace;\n",
       "  background-color: var(--sklearn-color-background);\n",
       "  border-radius: 1em;\n",
       "  height: 1em;\n",
       "  width: 1em;\n",
       "  text-decoration: none !important;\n",
       "  margin-left: 1ex;\n",
       "  /* unfitted */\n",
       "  border: var(--sklearn-color-unfitted-level-1) 1pt solid;\n",
       "  color: var(--sklearn-color-unfitted-level-1);\n",
       "}\n",
       "\n",
       ".sk-estimator-doc-link.fitted,\n",
       "a:link.sk-estimator-doc-link.fitted,\n",
       "a:visited.sk-estimator-doc-link.fitted {\n",
       "  /* fitted */\n",
       "  border: var(--sklearn-color-fitted-level-1) 1pt solid;\n",
       "  color: var(--sklearn-color-fitted-level-1);\n",
       "}\n",
       "\n",
       "/* On hover */\n",
       "div.sk-estimator:hover .sk-estimator-doc-link:hover,\n",
       ".sk-estimator-doc-link:hover,\n",
       "div.sk-label-container:hover .sk-estimator-doc-link:hover,\n",
       ".sk-estimator-doc-link:hover {\n",
       "  /* unfitted */\n",
       "  background-color: var(--sklearn-color-unfitted-level-3);\n",
       "  color: var(--sklearn-color-background);\n",
       "  text-decoration: none;\n",
       "}\n",
       "\n",
       "div.sk-estimator.fitted:hover .sk-estimator-doc-link.fitted:hover,\n",
       ".sk-estimator-doc-link.fitted:hover,\n",
       "div.sk-label-container:hover .sk-estimator-doc-link.fitted:hover,\n",
       ".sk-estimator-doc-link.fitted:hover {\n",
       "  /* fitted */\n",
       "  background-color: var(--sklearn-color-fitted-level-3);\n",
       "  color: var(--sklearn-color-background);\n",
       "  text-decoration: none;\n",
       "}\n",
       "\n",
       "/* Span, style for the box shown on hovering the info icon */\n",
       ".sk-estimator-doc-link span {\n",
       "  display: none;\n",
       "  z-index: 9999;\n",
       "  position: relative;\n",
       "  font-weight: normal;\n",
       "  right: .2ex;\n",
       "  padding: .5ex;\n",
       "  margin: .5ex;\n",
       "  width: min-content;\n",
       "  min-width: 20ex;\n",
       "  max-width: 50ex;\n",
       "  color: var(--sklearn-color-text);\n",
       "  box-shadow: 2pt 2pt 4pt #999;\n",
       "  /* unfitted */\n",
       "  background: var(--sklearn-color-unfitted-level-0);\n",
       "  border: .5pt solid var(--sklearn-color-unfitted-level-3);\n",
       "}\n",
       "\n",
       ".sk-estimator-doc-link.fitted span {\n",
       "  /* fitted */\n",
       "  background: var(--sklearn-color-fitted-level-0);\n",
       "  border: var(--sklearn-color-fitted-level-3);\n",
       "}\n",
       "\n",
       ".sk-estimator-doc-link:hover span {\n",
       "  display: block;\n",
       "}\n",
       "\n",
       "/* \"?\"-specific style due to the `<a>` HTML tag */\n",
       "\n",
       "#sk-container-id-1 a.estimator_doc_link {\n",
       "  float: right;\n",
       "  font-size: 1rem;\n",
       "  line-height: 1em;\n",
       "  font-family: monospace;\n",
       "  background-color: var(--sklearn-color-background);\n",
       "  border-radius: 1rem;\n",
       "  height: 1rem;\n",
       "  width: 1rem;\n",
       "  text-decoration: none;\n",
       "  /* unfitted */\n",
       "  color: var(--sklearn-color-unfitted-level-1);\n",
       "  border: var(--sklearn-color-unfitted-level-1) 1pt solid;\n",
       "}\n",
       "\n",
       "#sk-container-id-1 a.estimator_doc_link.fitted {\n",
       "  /* fitted */\n",
       "  border: var(--sklearn-color-fitted-level-1) 1pt solid;\n",
       "  color: var(--sklearn-color-fitted-level-1);\n",
       "}\n",
       "\n",
       "/* On hover */\n",
       "#sk-container-id-1 a.estimator_doc_link:hover {\n",
       "  /* unfitted */\n",
       "  background-color: var(--sklearn-color-unfitted-level-3);\n",
       "  color: var(--sklearn-color-background);\n",
       "  text-decoration: none;\n",
       "}\n",
       "\n",
       "#sk-container-id-1 a.estimator_doc_link.fitted:hover {\n",
       "  /* fitted */\n",
       "  background-color: var(--sklearn-color-fitted-level-3);\n",
       "}\n",
       "</style><div id=\"sk-container-id-1\" class=\"sk-top-container\"><div class=\"sk-text-repr-fallback\"><pre>LinearRegression()</pre><b>In a Jupyter environment, please rerun this cell to show the HTML representation or trust the notebook. <br />On GitHub, the HTML representation is unable to render, please try loading this page with nbviewer.org.</b></div><div class=\"sk-container\" hidden><div class=\"sk-item\"><div class=\"sk-estimator fitted sk-toggleable\"><input class=\"sk-toggleable__control sk-hidden--visually\" id=\"sk-estimator-id-1\" type=\"checkbox\" checked><label for=\"sk-estimator-id-1\" class=\"sk-toggleable__label fitted sk-toggleable__label-arrow fitted\">&nbsp;&nbsp;LinearRegression<a class=\"sk-estimator-doc-link fitted\" rel=\"noreferrer\" target=\"_blank\" href=\"https://scikit-learn.org/1.4/modules/generated/sklearn.linear_model.LinearRegression.html\">?<span>Documentation for LinearRegression</span></a><span class=\"sk-estimator-doc-link fitted\">i<span>Fitted</span></span></label><div class=\"sk-toggleable__content fitted\"><pre>LinearRegression()</pre></div> </div></div></div></div>"
      ],
      "text/plain": [
       "LinearRegression()"
      ]
     },
     "execution_count": 14,
     "metadata": {},
     "output_type": "execute_result"
    }
   ],
   "source": [
    "#Train the linear regression model\n",
    "from sklearn.linear_model import LinearRegression\n",
    "\n",
    "linear_model = LinearRegression() # initialize linear regression algorithm\n",
    "linear_model.fit(X_train, y_train) # fit the algorithm on training data"
   ]
  },
  {
   "cell_type": "code",
   "execution_count": 15,
   "id": "b116cc03",
   "metadata": {},
   "outputs": [
    {
     "name": "stdout",
     "output_type": "stream",
     "text": [
      "Mean Squared Error: 85.91\n",
      "Mean Absolute Error: 7.84\n",
      "R2 Score: 0.15\n"
     ]
    }
   ],
   "source": [
    "#Evaluate the model performance on the test set\n",
    "from sklearn.metrics import mean_squared_error, mean_absolute_error, r2_score\n",
    "\n",
    "y_pred = linear_model.predict(X_test) # predict based on the testing data\n",
    "\n",
    "mse = mean_squared_error(y_test, y_pred) # mean squared error\n",
    "mae = mean_absolute_error(y_test, y_pred) # mean absolute error\n",
    "r2 = r2_score(y_test, y_pred) # r2 score\n",
    "\n",
    "print(\"Mean Squared Error: {:.2f}\".format(mse))\n",
    "print(\"Mean Absolute Error: {:.2f}\".format(mae))\n",
    "print(\"R2 Score: {:.2f}\".format(r2))\n"
   ]
  },
  {
   "cell_type": "code",
   "execution_count": 16,
   "id": "30f6b5cb",
   "metadata": {},
   "outputs": [
    {
     "name": "stdout",
     "output_type": "stream",
     "text": [
      "Coefficients:  [1.00101807 2.80771503]\n",
      "Intercept:  101.60373540489064\n"
     ]
    }
   ],
   "source": [
    "print(\"Coefficients: \", linear_model.coef_) # finalized weights\n",
    "print(\"Intercept: \", linear_model.intercept_) # finalized bias \n"
   ]
  },
  {
   "cell_type": "markdown",
   "id": "18af8e22-a462-4184-a0f3-d015e7688092",
   "metadata": {},
   "source": [
    "### Comparing the testing dataset with scaled values and true values"
   ]
  },
  {
   "cell_type": "code",
   "execution_count": 17,
   "id": "b1022f00",
   "metadata": {},
   "outputs": [
    {
     "name": "stdout",
     "output_type": "stream",
     "text": [
      "     Volume    Weight  True Values  Predicted Values\n",
      "0  2.317624  0.430273          120        105.131803\n",
      "1 -0.028970 -0.168712           94        101.101041\n",
      "2  1.013960  0.828200          104        104.944077\n",
      "3  1.274693  1.309901          115        106.557554\n"
     ]
    }
   ],
   "source": [
    "test_instances = pd.DataFrame(X_test, columns=['Volume', 'Weight'])\n",
    "test_instances['True Values'] = y_test.values\n",
    "test_instances['Predicted Values'] = y_pred\n",
    "\n",
    "print(test_instances)\n"
   ]
  },
  {
   "cell_type": "markdown",
   "id": "8bf826ea-4f10-41db-8206-290059aee7f2",
   "metadata": {},
   "source": [
    "### Comparing the testing dataset with original values and true values"
   ]
  },
  {
   "cell_type": "code",
   "execution_count": 18,
   "id": "bd621965",
   "metadata": {},
   "outputs": [
    {
     "name": "stdout",
     "output_type": "stream",
     "text": [
      "   Volume  Weight  True Values  Predicted Values\n",
      "0  2500.0  1395.0          120        105.131803\n",
      "1  1600.0  1252.0           94        101.101041\n",
      "2  2000.0  1490.0          104        104.944077\n",
      "3  2100.0  1605.0          115        106.557554\n"
     ]
    }
   ],
   "source": [
    "X_test_original = scaler.inverse_transform(X_test)\n",
    "test_instances_original = pd.DataFrame(X_test_original, columns=['Volume', 'Weight'])\n",
    "test_instances_original['True Values'] = y_test.values\n",
    "test_instances_original['Predicted Values'] = y_pred\n",
    "\n",
    "print(test_instances_original)\n"
   ]
  },
  {
   "cell_type": "code",
   "execution_count": 19,
   "id": "e3f9b34d",
   "metadata": {},
   "outputs": [
    {
     "name": "stderr",
     "output_type": "stream",
     "text": [
      "C:\\Users\\hotpr\\anaconda3\\Lib\\site-packages\\sklearn\\base.py:493: UserWarning: X does not have valid feature names, but StandardScaler was fitted with feature names\n",
      "  warnings.warn(\n"
     ]
    }
   ],
   "source": [
    "#Create a new instance and preprocess it to match the training data format\n",
    "# New instance (replace these values with the actual data)\n",
    "new_volume = 1100\n",
    "new_weight = 950\n",
    "\n",
    "# Standardize the new instance using the same scaler used for training data\n",
    "new_instance = scaler.transform([[new_volume, new_weight]])\n"
   ]
  },
  {
   "cell_type": "code",
   "execution_count": 20,
   "id": "3fb527f1",
   "metadata": {},
   "outputs": [
    {
     "name": "stdout",
     "output_type": "stream",
     "text": [
      "Predicted CO2 emission for the new instance: 96.24\n"
     ]
    }
   ],
   "source": [
    "#Make a prediction using the trained linear regression model\n",
    "new_pred = linear_model.predict(new_instance)\n",
    "print(\"Predicted CO2 emission for the new instance: {:.2f}\".format(new_pred[0]))\n"
   ]
  },
  {
   "cell_type": "markdown",
   "id": "553766b0",
   "metadata": {},
   "source": [
    "Here are the equations for normalization, standardization, and some common error functions in LaTeX format:\n",
    "1. Normalization (Min-Max Scaling):\n",
    "$$\n",
    "x_{n o r m a l i z e d}=\\frac{x-x_{\\min }}{x_{\\max }-x_{\\min }}\n",
    "$$\n",
    "2. Standardization (Z-score Normalization):\n",
    "$$\n",
    "x_{s t a n d a r d i z e d}=\\frac{x-\\mu}{\\sigma}\n",
    "$$\n",
    "3. Mean Squared Error (MSE):\n",
    "$$\n",
    "M S E=\\frac{1}{n} \\sum_{i=1}^n\\left(y_i-\\hat{y}_i\\right)^2\n",
    "$$"
   ]
  },
  {
   "cell_type": "markdown",
   "id": "5bbf79c5-1e4c-4dd2-8a6e-c4e44c9c8346",
   "metadata": {},
   "source": [
    "### Model Insights:\r\n",
    "Write a brief summary of the dataset used (e.g., number of samples, features, and target variable).\r\n",
    "Explain the objective of linear regression in the context of the datasened."
   ]
  },
  {
   "cell_type": "markdown",
   "id": "070b1df1-e773-436e-9df8-a083370989cb",
   "metadata": {},
   "source": [
    "The dataset comprises 5 columns, namely, Car, Model, Volume, Weight, and CO2.\n",
    "The dataset has 36 rows of data with no null values in any columns. In addition to this, it has 4 features: Car, Model, volume, and Weight.\n",
    "The dataset has two categorical features: Car and Model, which are eventually dropped, and two numerical features, volume, and weight, which happen to be the most important features of the data.\n",
    "It only has one continuous target variable (CO2), which indicates the CO2 emissions from the cars.\n",
    "\n",
    "The main objective of this model is to predict the number of CO2 emissions based on the data on the car given. Since the number of CO2 emissions is a continuous variable, this is a regression problem. Hence, Linear Regression is used.\n",
    "Linear Regression uses multiple variable linear equations to calculate the predicted values and then uses Mean Squared Error to calculate the loss. The loss function is optimized using gradient descent, which minimizes the loss by iteratively moving in the direction of the steepest descent as defined by the negative of the gradient. Once the algorithm has run through the total number of iterations defined in the Linear Regression algorithm, it will update the weights and bias and finally come up with the optimal solutions that best match the true values and minimize the loss. \n",
    "Once the model is fully ready, it can be used to predict CO2 emissions given new data values."
   ]
  },
  {
   "cell_type": "markdown",
   "id": "6b28b1d1-fd72-4dd3-823e-cd25d1173a20",
   "metadata": {},
   "source": [
    "### Algorithm Walkthrough:\n",
    "Provide a step-by-step explanation of how the model is trained."
   ]
  },
  {
   "cell_type": "markdown",
   "id": "b2f50ddb-a4cc-439d-980d-24ee1e18b159",
   "metadata": {},
   "source": [
    "First, the required libraries are imported. Next, using the panda's library, the dataset is loaded into the pandas' data frame from the CSV file. \n",
    "Once the CSV is loaded into a data frame, the data frame, now referred to as 'df', is inspected for null values, and sometimes exploratory data analysis will be conducted to better understand the data.\n",
    "\n",
    "Once the data is understood and ready, the data is separated into features 'X' and target values 'y'. Once that is done, the features are preprocessed using the Standard Scaler to normalize the data and avoid bias training. After all the preprocessing steps are taken, the data is split into training and testing sets.\n",
    "\n",
    "After the train test split, the Linear Regression algorithm is initialized and fitted on the training set to learn patterns in the data and find the optimal weights and bias. Once the fitting step is made, the testing set is passed to the model to make predictions. \n",
    "Finally, the model is evaluated using regression metrics such as MSE, MAE, and R2 score."
   ]
  },
  {
   "cell_type": "code",
   "execution_count": null,
   "id": "16e5ceff-c936-41f0-97d8-d0a857f1e7e0",
   "metadata": {},
   "outputs": [],
   "source": []
  }
 ],
 "metadata": {
  "kernelspec": {
   "display_name": "Python 3 (ipykernel)",
   "language": "python",
   "name": "python3"
  },
  "language_info": {
   "codemirror_mode": {
    "name": "ipython",
    "version": 3
   },
   "file_extension": ".py",
   "mimetype": "text/x-python",
   "name": "python",
   "nbconvert_exporter": "python",
   "pygments_lexer": "ipython3",
   "version": "3.12.4"
  }
 },
 "nbformat": 4,
 "nbformat_minor": 5
}
